{
 "cells": [
  {
   "cell_type": "markdown",
   "id": "eeaf510e",
   "metadata": {},
   "source": [
    "# <center>Lab 5 &ndash; DATA 3401 (Fall 2021)</center>\n",
    "\n",
    "## Lab Date: 10/8\n",
    "## Due Date 10/18 (**Note this is a Monday!) (before the beginning of lecture)\n",
    "\n",
    "## Lab Description\n",
    "The purpose of this lab is for you to code functions to handle matrices, vectors, and some standard operations on these.\n",
    "\n",
    "We will represent an m x n matrix as a list of lists as we have done for the Checkers and Tic-Tac-Toe boards.  A column vector will be an m x 1 matrix, and a row vector will be a 1 x n matrix."
   ]
  },
  {
   "cell_type": "markdown",
   "id": "c8a78e82",
   "metadata": {},
   "source": [
    "## Exercise 1\n",
    "Create a function `matrix(...)` that will create a matrix with m rows of length n. Initialize all entries to take value `value`, which defaults to be 0 if unspecified. "
   ]
  },
  {
   "cell_type": "code",
   "execution_count": 1,
   "id": "68090a3e",
   "metadata": {},
   "outputs": [
    {
     "name": "stdout",
     "output_type": "stream",
     "text": [
      "enter number of rows:\n",
      "3\n",
      "enter number of columns:\n",
      "2\n",
      "enter element at index 0 0  :1\n",
      "enter element at index 0 1  :2\n",
      "enter element at index 1 0  :3\n",
      "enter element at index 1 1  :4\n",
      "enter element at index 2 0  :5\n",
      "enter element at index 2 1  :6\n",
      "1 2 \n",
      "3 4 \n",
      "5 6 \n"
     ]
    }
   ],
   "source": [
    "# Write your function here\n",
    "def matrix(m,n):\n",
    "    res = [[0 for i in range(n)] for j in range(m)]\n",
    "    for i in range(len(res)):\n",
    "        for j in range(len(res[0])):\n",
    "            n = int(input(\"enter element at index {} {}  :\".format(i,j)))\n",
    "            res[i][j]= n\n",
    "    return res\n",
    "\n",
    "m = int(input(\"enter number of rows:\\n\"))\n",
    "n = int(input(\"enter number of columns:\\n\"))\n",
    "matrix = matrix(m,n)\n",
    "\n",
    "for i in range(len(matrix)):\n",
    "    for j in range(len(matrix[0])):\n",
    "        print(matrix[i][j],end = \" \")\n",
    "    print() "
   ]
  },
  {
   "cell_type": "markdown",
   "id": "c7d76e1b",
   "metadata": {},
   "source": [
    "## Exercise 2\n",
    "Write a function to check if two matrices are equal (Note: you should first check that they are the same size!)"
   ]
  },
  {
   "cell_type": "code",
   "execution_count": 10,
   "id": "21f28f65",
   "metadata": {},
   "outputs": [
    {
     "name": "stdout",
     "output_type": "stream",
     "text": [
      "enter number of rows in first matrix:\n",
      "4\n",
      "enter number of columns in first matrix:\n",
      "2\n",
      "enter number of rows in second matrix:\n",
      "4\n",
      "enter number of columns in first matrix:\n",
      "2\n",
      "Both the matrix are same :\n"
     ]
    }
   ],
   "source": [
    "def is_matrix_same(matrix1,matrix2):\n",
    "    res = True\n",
    "    if row1 != row2 or column1 != column2:\n",
    "        return False\n",
    "    for i in range(len(matrix1)):\n",
    "        for j in range(len(matrix1[0])):\n",
    "            if matrix1[i][j] != matrix2[i][j]:\n",
    "                res = False\n",
    "                break\n",
    "    return res\n",
    "row1 = int(input(\"enter number of rows in first matrix:\\n\"))\n",
    "column1 = int(input(\"enter number of columns in first matrix:\\n\"))\n",
    "row2 = int(input(\"enter number of rows in second matrix:\\n\"))\n",
    "column2 = int(input(\"enter number of columns in first matrix:\\n\"))\n",
    "matrix1 = [[0 for i in range(column1)] for j in range(row1)]\n",
    "matrix2 = [[0 for i in range(column2)] for j in range(row2)]\n",
    "check_same_matrix = is_matrix_same(matrix1,matrix2)\n",
    "if check_same_matrix:\n",
    "    print(\"Both the matrix are same :\")\n",
    "else:\n",
    "    print(\"Both the matrix are not same :\")         "
   ]
  },
  {
   "cell_type": "markdown",
   "id": "152b0380",
   "metadata": {},
   "source": [
    "## Exercise 3\n",
    "Write the following functions for your matrix:\n",
    "1. `shape(matrix)` that returns a tuple of the form `(m,n)` with the number of rows (m) and columns (n) of the matrix\n",
    "1. `transpose(matrix)` that returns the transpose (`matrix[i][j]` becomes `matrix[j][i]`)\n",
    "1. `row(matrix,i)` and `col(matrix,j)` that return a list of the i--th row and the j--th column of the matrix\n",
    "1. `block(matrix,m0,m1,n0,n1)` that returns a new matrix which has the original matrix entries where the rows are between m0 and m1 (inclusive) and columns are between n0 and n1"
   ]
  },
  {
   "cell_type": "code",
   "execution_count": 19,
   "id": "fde8aaaa",
   "metadata": {},
   "outputs": [
    {
     "name": "stdout",
     "output_type": "stream",
     "text": [
      "[11, 12, 5, 2]\n",
      "[15, 6, 10, 6]\n",
      "[10, 8, 12, 5]\n"
     ]
    }
   ],
   "source": [
    "# Write your function here\n",
    "matrix = [[11, 12, 5, 2], [15, 6,10,6], [10, 8, 12, 5]]\n",
    "\n",
    "for i in matrix:\n",
    "    print(i)\n",
    "\n",
    "def shape(matrix):\n",
    "    return len(matrix),len(matrix[0])\n",
    "\n",
    "#calling the method\n",
    "shape(matrix) \n",
    "#output is of the type (m,n), m is no. of rows and n is no. of cols\n",
    "\n",
    "import numpy as np\n",
    "def transpose(matrix):\n",
    "    return np.transpose(matrix)"
   ]
  },
  {
   "cell_type": "code",
   "execution_count": 17,
   "id": "831738b4",
   "metadata": {},
   "outputs": [
    {
     "data": {
      "text/plain": [
       "[[12, 5], [6, 10], [8, 12]]"
      ]
     },
     "execution_count": 17,
     "metadata": {},
     "output_type": "execute_result"
    }
   ],
   "source": [
    "transpose(matrix)\n",
    "\n",
    "\n",
    "def row(matrix,i):\n",
    "    return matrix[i][:]\n",
    "\n",
    "row(matrix,2)\n",
    "\n",
    "\n",
    "def column(matrix,j):\n",
    "    return [row[j] for row in matrix]\n",
    "\n",
    "\n",
    "column(matrix,1)\n",
    "\n",
    "\n",
    "def block(m0,m1,n0,n1):\n",
    "    blockMatrix=[]\n",
    "    \n",
    "    for i in range(m0,m1+1):\n",
    "        temp=[]\n",
    "        for j in range(n0,n1+1):\n",
    "            \n",
    "            temp.append(matrix[i][j])\n",
    "        blockMatrix.append(temp)\n",
    "    return blockMatrix\n",
    "\n",
    "block(0,2,1,2)"
   ]
  },
  {
   "cell_type": "markdown",
   "id": "9be3462a",
   "metadata": {},
   "source": [
    "## Exercise 4\n",
    "Write functions to make the following special types of matrices:\n",
    "1. Identity matrices: `eye(n)` should have value 1 on its diagonal and 0 elsewhere\n",
    "1. `zeros(m,n)` and `ones(m,n)` that create matrices with all 0 and all 1 entries, respectively."
   ]
  },
  {
   "cell_type": "code",
   "execution_count": 3,
   "id": "941ddde4",
   "metadata": {},
   "outputs": [
    {
     "name": "stdout",
     "output_type": "stream",
     "text": [
      "True\n"
     ]
    }
   ],
   "source": [
    "# Write your function here\n",
    "def eye(matrice):\n",
    "    res = True\n",
    "    for i in range(len(matri)):\n",
    "        for j in range(len(matrix[0])):\n",
    "            if i == j:\n",
    "                if matrix[i][j] != 1:\n",
    "                    res = False\n",
    "                    break\n",
    "            else:\n",
    "                if matrix[i][j] !=0:\n",
    "                    res = False\n",
    "                    break\n",
    "    return res\n",
    "matrix = [[1,0,0,0],\n",
    "        [0,1,0,0],\n",
    "        [0,0,1,0],\n",
    "        [0,0,0,1]\n",
    "            ]\n",
    "res = eye(matrx)\n",
    "print(res)"
   ]
  },
  {
   "cell_type": "code",
   "execution_count": 2,
   "id": "a1b602f6",
   "metadata": {},
   "outputs": [
    {
     "name": "stdout",
     "output_type": "stream",
     "text": [
      "please enter rows for zero matrix :4\n",
      "Please enter columns for zero matrix :3\n",
      "0 0 0 \n",
      "0 0 0 \n",
      "0 0 0 \n",
      "0 0 0 \n",
      "Please enter rows for one matrix :4\n",
      "Please enter columns for one matrix :2\n",
      "1 1 \n",
      "1 1 \n",
      "1 1 \n",
      "1 1 \n"
     ]
    }
   ],
   "source": [
    "# Test your function here\n",
    "def zero(m,n):\n",
    "    mat = [[0 for i in range(n)] for j in range(m)]\n",
    "    return mat\n",
    "m = int(input(\"please enter rows for zero matrix :\"))\n",
    "n = int(input(\"Please enter columns for zero matrix :\"))\n",
    "zeros = zero(m,n)\n",
    "for i in range(len(zeros)):\n",
    "    for j in range(len(zeros[0])):\n",
    "        print(zeros[i][j],end = \" \")\n",
    "    print()  \n",
    "def one(m,n):\n",
    "    mat = [[1 for i in range(n)] for j in range(m)]\n",
    "    return mat\n",
    "m = int(input(\"Please enter rows for one matrix :\"))\n",
    "n = int(input(\"Please enter columns for one matrix :\"))\n",
    "ones = one(m,n)\n",
    "for i in range(len(ones)):\n",
    "    for j in range(len(ones[0])):\n",
    "        print(ones[i][j],end = \" \")\n",
    "    print()"
   ]
  },
  {
   "cell_type": "markdown",
   "id": "5ccf63f0",
   "metadata": {},
   "source": [
    "## Exercise 5\n",
    "Write functions to perform the following operations:\n",
    "1. Multiply a matrix by a scalar\n",
    "1. Take elementwise product of two matrices\n",
    "1. Take the dot product of two vectors and two matrices of the same size\n",
    "1. Multiply two matrices (note you should check that the sizes allow this)"
   ]
  },
  {
   "cell_type": "code",
   "execution_count": 16,
   "id": "ab337a25",
   "metadata": {},
   "outputs": [],
   "source": [
    "# Write your function here\n",
    "a = np.matrix([[1,2], [3,4]])\n",
    "b = np.matrix([[5,6], [7,8]])"
   ]
  }
 ],
 "metadata": {
  "kernelspec": {
   "display_name": "Python 3 (ipykernel)",
   "language": "python",
   "name": "python3"
  },
  "language_info": {
   "codemirror_mode": {
    "name": "ipython",
    "version": 3
   },
   "file_extension": ".py",
   "mimetype": "text/x-python",
   "name": "python",
   "nbconvert_exporter": "python",
   "pygments_lexer": "ipython3",
   "version": "3.8.10"
  }
 },
 "nbformat": 4,
 "nbformat_minor": 5
}
