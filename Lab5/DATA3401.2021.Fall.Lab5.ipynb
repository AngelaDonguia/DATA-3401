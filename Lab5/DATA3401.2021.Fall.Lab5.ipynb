{
 "cells": [
  {
   "cell_type": "markdown",
   "id": "eeaf510e",
   "metadata": {},
   "source": [
    "# <center>Lab 5 &ndash; DATA 3401 (Fall 2021)</center>\n",
    "\n",
    "## Lab Date: 10/8\n",
    "## Due Date 10/18 (**Note this is a Monday!) (before the beginning of lecture)\n",
    "\n",
    "## Lab Description\n",
    "The purpose of this lab is for you to code functions to handle matrices, vectors, and some standard operations on these.\n",
    "\n",
    "We will represent an m x n matrix as a list of lists as we have done for the Checkers and Tic-Tac-Toe boards.  A column vector will be an m x 1 matrix, and a row vector will be a 1 x n matrix."
   ]
  },
  {
   "cell_type": "markdown",
   "id": "c8a78e82",
   "metadata": {},
   "source": [
    "## Exercise 1\n",
    "Create a function `matrix(...)` that will create a matrix with m rows of length n. Initialize all entries to take value `value`, which defaults to be 0 if unspecified. "
   ]
  },
  {
   "cell_type": "code",
   "execution_count": null,
   "id": "380b4bc7",
   "metadata": {},
   "outputs": [],
   "source": [
    "# Write your function here\n"
   ]
  },
  {
   "cell_type": "code",
   "execution_count": null,
   "id": "a6a439ab",
   "metadata": {},
   "outputs": [],
   "source": [
    "# Test your function here\n"
   ]
  },
  {
   "cell_type": "markdown",
   "id": "c7d76e1b",
   "metadata": {},
   "source": [
    "## Exercise 2\n",
    "Write a function to check if two matrices are equal (Note: you should first check that they are the same size!)"
   ]
  },
  {
   "cell_type": "code",
   "execution_count": null,
   "id": "21f28f65",
   "metadata": {},
   "outputs": [],
   "source": [
    "# Write your function here\n"
   ]
  },
  {
   "cell_type": "code",
   "execution_count": null,
   "id": "79392963",
   "metadata": {},
   "outputs": [],
   "source": [
    "# Test your function here\n"
   ]
  },
  {
   "cell_type": "markdown",
   "id": "152b0380",
   "metadata": {},
   "source": [
    "## Exercise 3\n",
    "Write the following functions for your matrix:\n",
    "1. `shape(matrix)` that returns a tuple of the form `(m,n)` with the number of rows (m) and columns (n) of the matrix\n",
    "1. `transpose(matrix)` that returns the transpose (`matrix[i][j]` becomes `matrix[j][i]`)\n",
    "1. `row(matrix,i)` and `col(matrix,j)` that return a list of the i--th row and the j--th column of the matrix\n",
    "1. `block(matrix,m0,m1,n0,n1)` that returns a new matrix which has the original matrix entries where the rows are between m0 and m1 (inclusive) and columns are between n0 and n1"
   ]
  },
  {
   "cell_type": "code",
   "execution_count": null,
   "id": "10501615",
   "metadata": {},
   "outputs": [],
   "source": [
    "# Write your function here\n"
   ]
  },
  {
   "cell_type": "code",
   "execution_count": null,
   "id": "831738b4",
   "metadata": {},
   "outputs": [],
   "source": [
    "# Test your function here\n"
   ]
  },
  {
   "cell_type": "markdown",
   "id": "9be3462a",
   "metadata": {},
   "source": [
    "## Exercise 4\n",
    "Write functions to make the following special types of matrices:\n",
    "1. Identity matrices: `eye(n)` should have value 1 on its diagonal and 0 elsewhere\n",
    "1. `zeros(m,n)` and `ones(m,n)` that create matrices with all 0 and all 1 entries, respectively."
   ]
  },
  {
   "cell_type": "code",
   "execution_count": null,
   "id": "8277de0d",
   "metadata": {},
   "outputs": [],
   "source": [
    "# Write your function here\n"
   ]
  },
  {
   "cell_type": "code",
   "execution_count": null,
   "id": "a1b602f6",
   "metadata": {},
   "outputs": [],
   "source": [
    "# Test your function here\n"
   ]
  },
  {
   "cell_type": "markdown",
   "id": "5ccf63f0",
   "metadata": {},
   "source": [
    "## Exercise 5\n",
    "Write functions to perform the following operations:\n",
    "1. Multiply a matrix by a scalar\n",
    "1. Take elementwise product of two matrices\n",
    "1. Take the dot product of two vectors and two matrices of the same size\n",
    "1. Multiply two matrices (note you should check that the sizes allow this)"
   ]
  },
  {
   "cell_type": "code",
   "execution_count": null,
   "id": "c417b713",
   "metadata": {},
   "outputs": [],
   "source": [
    "# Write your function here\n"
   ]
  },
  {
   "cell_type": "code",
   "execution_count": null,
   "id": "544b192a",
   "metadata": {},
   "outputs": [],
   "source": [
    "# Test your function here\n"
   ]
  }
 ],
 "metadata": {
  "kernelspec": {
   "display_name": "Python 3 (ipykernel)",
   "language": "python",
   "name": "python3"
  },
  "language_info": {
   "codemirror_mode": {
    "name": "ipython",
    "version": 3
   },
   "file_extension": ".py",
   "mimetype": "text/x-python",
   "name": "python",
   "nbconvert_exporter": "python",
   "pygments_lexer": "ipython3",
   "version": "3.8.10"
  }
 },
 "nbformat": 4,
 "nbformat_minor": 5
}
