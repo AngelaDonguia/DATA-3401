{
 "cells": [
  {
   "cell_type": "markdown",
   "id": "6c35f3cc",
   "metadata": {},
   "source": [
    "# <center>Lab 7 &ndash; DATA 3401 (Fall 2021)</center>\n",
    "\n",
    "## Lab Date: 11/5\n",
    "## Due Date 11/12 (before the beginning of lab)\n",
    "\n",
    "## Lab Description\n",
    "The purpose of this lab is for you to become more familiar with numpy and matplotlib"
   ]
  },
  {
   "cell_type": "markdown",
   "id": "ee10df4f",
   "metadata": {},
   "source": [
    "## Exercise 1\n",
    "On the same plot, graph the functions $y=\\sin x$, $y=\\cos x$, and $y = \\begin{cases} 1, x \\geq0\\\\ 0, x<0\\end{cases}$ on the interval $[-2\\pi,2\\pi]$.\n",
    "1. Make sure the curves have different colors\n",
    "1. Add a legend and label each curve appropriately "
   ]
  },
  {
   "cell_type": "code",
   "execution_count": 10,
   "id": "17b0437f",
   "metadata": {},
   "outputs": [],
   "source": [
    "# Write your solution here\n"
   ]
  },
  {
   "cell_type": "markdown",
   "id": "cd0d8f4d",
   "metadata": {},
   "source": [
    "## Exercise 2\n",
    "1. Write a function that rolls a dice `n` times for a given integer `n` and computes a *running percentage* of times each number is rolled (# of times 1 has been rolled)/(# of rolls so far) and so on. That is, at the `i`-th roll, you should compute (# of 1s)/i, (# of 2s)/i, ... and store these values.\n",
    "1. Modify this function to take in a probability distribution over the 6 numbers of the form `p=np.array([p1,p2,p3,p4,p5,p6])` and roll a dice `n` times with these probabilities\n",
    "1. Run your function from part 1 with $n=1000$ and graph the rolling averages for all numbers vs. `i in range(n)`\n",
    "1. Run your function from part 2 with $n=1000$ and $p= [.2,.1,.2,.1..1,.3]$\n",
    "1. Use the plots above to justify that the first dice is fair and the second is unfair"
   ]
  },
  {
   "cell_type": "code",
   "execution_count": null,
   "id": "6dd7a624",
   "metadata": {},
   "outputs": [],
   "source": [
    "# Write your functions here\n"
   ]
  },
  {
   "cell_type": "code",
   "execution_count": null,
   "id": "56e8dc8c",
   "metadata": {},
   "outputs": [],
   "source": [
    "#Test your functions here\n"
   ]
  },
  {
   "cell_type": "markdown",
   "id": "21e1c9bd",
   "metadata": {},
   "source": [
    "## Exercise 3\n",
    "Plot the 2-variable function $\\sin(10(x^2+y^2))/10$ for $x\\in[-1,1]$ and $y\\in[-1,1]$"
   ]
  },
  {
   "cell_type": "code",
   "execution_count": 9,
   "id": "f4c1e56b",
   "metadata": {},
   "outputs": [],
   "source": [
    "# Write your solution here\n"
   ]
  },
  {
   "cell_type": "markdown",
   "id": "99d0212f",
   "metadata": {},
   "source": [
    "## Background: Central Limit Theorem\n",
    "In probability theory, the central limit theorem (CLT) establishes that, when independent random variables are added together, their properly normalized sum tends toward a normal distribution (informally a “bell curve”) even if the original variables themselves are not normally distributed. To understand this theorem, suppose you generate 100 uniform random numbers and sum them to get a single number. Then you repeat this procedure 1000 times to get 1000 of these sums of 100 uniform random numbers. The CLT theorem implies that if you plot a histogram of the values of these 1000 sums, then the resulting distribution looks very much like the Gaussian bell-shaped function. The larger the number of these sums (for example, 100000 instead of 1000 sums), the more the resulting distribution will look like a Gaussian. Here we want to see this theorem in action.\n",
    "\n",
    "## Exercise 4\n",
    "Consider that a person is standing on the real line at a given point $x_0$. The person then goes on a \"random walk\", meaning that they first take a step of size 1 in a random direction (so after this step they are either standing at $x_0+1$ or $x_0-1$), then they take another step of size 1 in a random direction (after the second step they are standing at one of $x_0-2, x_0,$ or  $x_0+2$), and they continue this process for $n$ steps. At each stage, the person flips a fair coin to decide which direction to go in.\n",
    "1. Write a function `RandomWalk(num_steps,start_position)`, that takes the number of steps `num_steps` for a random walk and the `start_position` of the random walk on the real line (so a float), and returns the location of the final step of the random walker.\n",
    "2. Write another function `SimulateRandomWalk(num_sims,num_steps,start_position)` that simulates num_sims number of random walks, each of which contains `num_steps` steps and starts at `start_position`. Then, this function calls `RandomWalk()` repeatedly for `num_sims` times and finally returns a vector of size `num_sim` containing the final locations of all of the `num_sims` simulated random-walks.\n",
    "3. Now write a script that plots the output of `SimulateRandomWalk(num_sims = 10000, num_steps = 10, start_position = 0)` in a histogram\n",
    "4. Interpret your results"
   ]
  },
  {
   "cell_type": "code",
   "execution_count": null,
   "id": "1c226a53",
   "metadata": {},
   "outputs": [],
   "source": [
    "# Write your functions here\n"
   ]
  },
  {
   "cell_type": "code",
   "execution_count": null,
   "id": "c1ab551c",
   "metadata": {},
   "outputs": [],
   "source": [
    "# Test your functions here\n"
   ]
  }
 ],
 "metadata": {
  "kernelspec": {
   "display_name": "Python 3 (ipykernel)",
   "language": "python",
   "name": "python3"
  },
  "language_info": {
   "codemirror_mode": {
    "name": "ipython",
    "version": 3
   },
   "file_extension": ".py",
   "mimetype": "text/x-python",
   "name": "python",
   "nbconvert_exporter": "python",
   "pygments_lexer": "ipython3",
   "version": "3.8.10"
  }
 },
 "nbformat": 4,
 "nbformat_minor": 5
}
