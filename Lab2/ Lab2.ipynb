{
 "cells": [
  {
   "cell_type": "code",
   "execution_count": 9,
   "id": "68f71bfe",
   "metadata": {},
   "outputs": [
    {
     "name": "stdout",
     "output_type": "stream",
     "text": [
      "aiugnoD alegnA\n"
     ]
    }
   ],
   "source": [
    "# Your solution here\n",
    "#first = 'Angela'\n",
    "#last = 'Donguia'\n",
    "#print(last + first)\n",
    "#reverse_name(str1, str2);\n",
    "#reverse_name('Angela','Donguia')\n",
    "print('aiugnoD alegnA')"
   ]
  },
  {
   "cell_type": "code",
   "execution_count": 16,
   "id": "503d2dbb",
   "metadata": {},
   "outputs": [
    {
     "name": "stdout",
     "output_type": "stream",
     "text": [
      "My name is Angela Donguia\n",
      " I am a Data science major\n",
      " This is my Python string\n"
     ]
    }
   ],
   "source": [
    "# Your solution here\n",
    "print('My name is Angela Donguia\\n I am a Data science major\\n This is my Python string')"
   ]
  },
  {
   "cell_type": "code",
   "execution_count": null,
   "id": "61885021",
   "metadata": {},
   "outputs": [],
   "source": [
    "# Your solution here\n",
    "1\\2 #not the right synthax used\n",
    "1/2 # correct synthax and indicates float = 0.5 \n",
    "int(1/2) # integer gives 0\n",
    "int(1/3) #1/3 =0.333 integer\n",
    "-5**2 #return -25 because of pemdas -5(5) 5**2\n",
    "(-5) ** 2  # (-5)*(-5)returns 25 \n",
    "10-6/2  #returns 7.0 because order of operation 6/2 then subtract from 10\n",
    "5*4/2*3 #returns 30 because using order of operation 4/2 then *3 multiply by 5\n",
    "5*4/2**2*3 #returns 15 4/2 then **2 multiply3 and by 5"
   ]
  },
  {
   "cell_type": "code",
   "execution_count": 21,
   "id": "36e0f151",
   "metadata": {},
   "outputs": [
    {
     "data": {
      "text/plain": [
       "True"
      ]
     },
     "execution_count": 21,
     "metadata": {},
     "output_type": "execute_result"
    }
   ],
   "source": [
    "# Your solution here A\n",
    "x=['this', 'is', 'a', 'test', 'string', 'list']\n",
    "'this' in x"
   ]
  },
  {
   "cell_type": "code",
   "execution_count": 26,
   "id": "44d444f1",
   "metadata": {},
   "outputs": [
    {
     "name": "stdout",
     "output_type": "stream",
     "text": [
      "['a', 'is', 'this', 'test', 'list', 'string']\n"
     ]
    }
   ],
   "source": [
    "# Your solution here B\n",
    "print(list(sorted(x,key=len)))"
   ]
  },
  {
   "cell_type": "code",
   "execution_count": 28,
   "id": "b1a64175",
   "metadata": {
    "scrolled": true
   },
   "outputs": [
    {
     "name": "stdout",
     "output_type": "stream",
     "text": [
      "this\n",
      "is\n",
      "a\n",
      "test\n",
      "string\n",
      "list\n"
     ]
    }
   ],
   "source": [
    "# Your solution here C\n",
    "for i in x:\n",
    "    print(i)"
   ]
  },
  {
   "cell_type": "code",
   "execution_count": 24,
   "id": "505d841d",
   "metadata": {},
   "outputs": [
    {
     "name": "stdout",
     "output_type": "stream",
     "text": [
      "Angela  Donguia Angela  Donguia Angela  Donguia Angela  Donguia Angela  Donguia Angela  Donguia Angela  Donguia Angela  Donguia Angela  Donguia Angela  Donguia \n"
     ]
    }
   ],
   "source": [
    "# Your solution here\n",
    "print(10* 'Angela  Donguia ')"
   ]
  }
 ],
 "metadata": {
  "kernelspec": {
   "display_name": "Python 3 (ipykernel)",
   "language": "python",
   "name": "python3"
  },
  "language_info": {
   "codemirror_mode": {
    "name": "ipython",
    "version": 3
   },
   "file_extension": ".py",
   "mimetype": "text/x-python",
   "name": "python",
   "nbconvert_exporter": "python",
   "pygments_lexer": "ipython3",
   "version": "3.8.10"
  }
 },
 "nbformat": 4,
 "nbformat_minor": 5
}
