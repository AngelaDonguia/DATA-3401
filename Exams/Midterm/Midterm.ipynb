{
 "cells": [
  {
   "cell_type": "markdown",
   "id": "4f2512ac",
   "metadata": {},
   "source": [
    "# # <center>Midterm Exam &ndash; DATA 3401 (Fall 2021)</center>\n",
    "\n",
    "## Start Date: 10/20\n",
    "## Due Date: 10/22 (at the **end** of the lab period (5:00pm))\n",
    "There will be **no Lab on Friday 10/22**\n",
    "\n",
    "## Midterm Rules\n",
    "This midterm exam is essentially like a short-term lab. Please work the exercises below **on your own**.  When you have completed the exam, you should push your completed jupyter notebook to your GitHub repo for this class in the **Exams->Midterm** folder.\n",
    "\n",
    "You may not discuss the problems with **anyone else**, including persons on an online internet forum. Consulting an outside source like this will be considered an academic integrity violation.\n",
    "\n",
    "You may use all class resources including previous labs and lectures, and anything posted on the course GitHub repo. \n",
    "\n",
    "You may not use any function that trivializes a problem. For example, if I ask you to write a `max` function that computes the maximum entry in a list, you are not allowed to use the pre-defined Python function `max`; you must write your own."
   ]
  },
  {
   "cell_type": "markdown",
   "id": "ab578a48",
   "metadata": {},
   "source": [
    "## Exercise 1\n",
    "1. Write a script or function that asks the user to input 3 numbers, and output the product of the 3 numbers.\n",
    "1. Your code should display an error message if one of the inputs is not a number.\n",
    "1. Test your code on the following inputs:  \n",
    "    1. (5, -10, 20.0)\n",
    "    1. (1, \"blah\", 5)"
   ]
  },
  {
   "cell_type": "code",
   "execution_count": null,
   "id": "7cf5b5bb",
   "metadata": {},
   "outputs": [],
   "source": [
    "## Write your code here\n",
    "def getInputs():\n",
    "    a = input(\"Enter a number: \"\n",
    "b = input(\"Enter a number: \")\n",
    "    c = input(\"Enter a number: \")\n",
    "        output = float(a)*float(b)*float(c)\n",
    "    #the product\n",
    "    print(\"Product:\",output)\n",
    "except(ValueError):\n",
    "    print(\"Entered number were invalid\")\n",
    "\n",
    "getInputs()"
   ]
  },
  {
   "cell_type": "markdown",
   "id": "5a19e585",
   "metadata": {},
   "source": [
    "## Exercise 2\n",
    "Suppose the first element of a sequence is $a_0 = 1$, the second element is $a_1 = 3$, and for every $i>1$, the $i$--th element of the sequence is defined by the recursive relation $a_i = \\frac{(a_{i-1}-a_{i-2})^2}{3}$. (So $a_2 = 4/3$)\n",
    "1. Write a function which outputs the $n$--th element of this sequence for a given positive integer $n$\n",
    "2. Test your function for $n = 1, 5, 10, 15,$ and $20$"
   ]
  },
  {
   "cell_type": "code",
   "execution_count": null,
   "id": "5d7d7fe0",
   "metadata": {},
   "outputs": [],
   "source": [
    "# Write your function here\n",
    "def seq(n):\n",
    "if n==0: \n",
    "    return 1\n",
    "if n==1: \n",
    "    return 3\n",
    "  array=[]\n",
    "array.append(1)\n",
    " array.append(3)\n",
    "#Loop from 2\n",
    "  for i in range(2,n+1):\n",
    "array.append(((array[i-1]-array[i-2])**2)/3)\n",
    "   #Return\n",
    "return array[n]"
   ]
  },
  {
   "cell_type": "code",
   "execution_count": null,
   "id": "f30ee41b",
   "metadata": {},
   "outputs": [],
   "source": [
    "# Test your function here\n",
    "print(seq(1))\n",
    "print(seq(5))\n",
    "print(seq(10))\n",
    "print(seq(15))"
   ]
  },
  {
   "cell_type": "markdown",
   "id": "cc61635f",
   "metadata": {},
   "source": [
    "## Exercise 3\n",
    "1. Write a function which takes a list as input and outputs the largest **integer** entry. If there is none, return `None`.\n",
    "1. Test your function on the following lists\n",
    "    1. \\[ 1, 9, 10.2, 6, -2\\]\n",
    "    1. \\[1.2, 3/4, \"Hello World\"\\]"
   ]
  },
  {
   "cell_type": "code",
   "execution_count": null,
   "id": "d6a59ef7",
   "metadata": {},
   "outputs": [],
   "source": [
    "# Write your function here\n",
    "def largest(L):\n",
    "    #finding the length of the old list\n",
    "    n=len(L)\n",
    "    #list to only integers\n",
    "    L_int=[]\n",
    "    #loop to find integers\n",
    "    for i in range(0,n,1):\n",
    "        if type(L[i])==int:\n",
    "            #integer element\n",
    "            L_int.append(L[i])\n",
    "            n=len(L_int)\n",
    "    if n>0:\n",
    "        Mymax=L_int[0]\n",
    "         with Mymax\n",
    "        for i in range(1,n,1):\n",
    "            if L_int[i]>Mymax:\n",
    "                Mymax=L_int[i]\n",
    "    else:\n",
    "        #None value\n",
    "        return None\n",
    "    #returning the largest integer/maxium int\n",
    "    return Mymax\n",
    "L=[1.2,3/4,\"Hello World\"]\n",
    "Mymax=largest(L)"
   ]
  },
  {
   "cell_type": "code",
   "execution_count": null,
   "id": "260420df",
   "metadata": {},
   "outputs": [],
   "source": [
    "# Test your function here\n",
    "print(\"The list is : \",L)\n",
    "print()\n",
    "print(\"Largest integer entry is : \",Mymax)"
   ]
  },
  {
   "cell_type": "markdown",
   "id": "034c4b5b",
   "metadata": {},
   "source": [
    "## Exercise 4\n",
    "1. Create a program that will make a deck of cards. Each card should be represented as a tuple of the form `(value, suit)`, where `value` is a number between 2 and 10, Jack, Queen, King, or Ace, and `suit` is one of Spades, Clubs, Diamonds, or Hearts. (So at the end, you should have a list of 52 tuples representing a 52 card deck)\n",
    "1. Create a function that takes in a hand (list) of 5 cards, and determines whether or not the hand is a \"flush\", meaning that all 5 cards are of the same suit.\n",
    "1. Test your function by inputting the following hands:\n",
    "    1. Ace of Hearts, King of Hearts, Queen of Hearts, Jack of Hearts, 2 of Hearts\n",
    "    1. 2 of Clubs, 3 of Spades, 4 of Clubs, 10 of Diamonds, Jack of Spades"
   ]
  },
  {
   "cell_type": "code",
   "execution_count": null,
   "id": "288113ec",
   "metadata": {},
   "outputs": [],
   "source": [
    "# Write your functions here\n",
    "def getDeckOfCards():\n",
    "suits = [\"Spades\",\"Clubs\",\"Diamonds\",\"Hearts\"]\n",
    "values = [\"2\",\"3\",\"4\",\"5\",\"6\",\"7\",\"8\",\"9\",\"10\",\"Jack\",\"Queen\",\"King\",\"Ace\"]\n",
    "deck = []\n",
    "for i in suits:\n",
    "for j in values:\n",
    "deck.append((j,i))\n",
    "return deck\n",
    "def isFlush(hand):\n",
    "for i in hand:\n",
    "if(i[1] != hand[0][1]):\n",
    "return False\n",
    "return True\n",
    "def main():\n",
    "    deck = getDeckOfCards()\n",
    "print(deck)\n",
    "print(isFlush([(\"Ace\",\"Hearts\"),(\"King\",\"Hearts\"),(\"Queen\",\"Hearts\"),(\"Jack\",\"Hearts\"),(\"2\",\"Hearts\" (\"2\",\"Clubs\"),(\"3\",\"Spades\"),(\"4\",\"Clubs\"),(\"10\",\"Diamonds\"),(\"Jack\",\"Spades\"))]))"
   ]
  },
  {
   "cell_type": "markdown",
   "id": "927f5792",
   "metadata": {},
   "source": [
    "## Exercise 5\n",
    "1. Write a function or script that takes in a string and whose output is the input string minus all of a specified character.  For example, an input of \"Hello World\" where \"l\" is removed should result in \"Heo Word\"\n",
    "1. Test your function by specifying \"i\" to be removed from \"Supercalifragilisticexpialidocious\"\n",
    "1. Test your function by specifying \"data\" to be removed from \"data 3401 introduction to python for data science\""
   ]
  },
  {
   "cell_type": "code",
   "execution_count": null,
   "id": "e5e22485",
   "metadata": {},
   "outputs": [],
   "source": [
    "# Write your function here\n",
    "def remove(str,x):\n",
    "        str = str.replace(x,'')\n",
    "        return str;"
   ]
  },
  {
   "cell_type": "code",
   "execution_count": null,
   "id": "f6736c67",
   "metadata": {},
   "outputs": [],
   "source": [
    "# Test your function here\n",
    "#printing test outputs 1,2,3\n",
    "test1 = remove(\"Hello World\",\"l\")\n",
    "print(test1)\n",
    "test2 = remove(\"Supercalifragilisticexpialidocious\",\"i\")\n",
    "print(test2)\n",
    "test3 = remove(\"data 3401 introduction to python for data science\", \"data\")\n",
    "print(test3)"
   ]
  }
 ],
 "metadata": {
  "kernelspec": {
   "display_name": "Python 3 (ipykernel)",
   "language": "python",
   "name": "python3"
  },
  "language_info": {
   "codemirror_mode": {
    "name": "ipython",
    "version": 3
   },
   "file_extension": ".py",
   "mimetype": "text/x-python",
   "name": "python",
   "nbconvert_exporter": "python",
   "pygments_lexer": "ipython3",
   "version": "3.8.10"
  }
 },
 "nbformat": 4,
 "nbformat_minor": 5
}
