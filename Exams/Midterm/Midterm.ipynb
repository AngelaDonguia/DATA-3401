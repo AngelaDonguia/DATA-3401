{
 "cells": [
  {
   "cell_type": "markdown",
   "id": "0aa4fa53",
   "metadata": {},
   "source": [
    " # <center>Midterm Exam &ndash; DATA 3401 (Fall 2021)</center>\n",
    "\n",
    "## Start Date: 10/20\n",
    "## Due Date: 10/22 (at the **end** of the lab period (5:00pm))\n",
    "There will be **no Lab on Friday 10/22**\n",
    "\n",
    "## Midterm Rules\n",
    "This midterm exam is essentially like a short-term lab. Please work the exercises below **on your own**.  When you have completed the exam, you should push your completed jupyter notebook to your GitHub repo for this class in the **Exams->Midterm** folder.\n",
    "\n",
    "You may not discuss the problems with **anyone else**, including persons on an online internet forum. Consulting an outside source like this will be considered an academic integrity violation.\n",
    "\n",
    "You may use all class resources including previous labs and lectures, and anything posted on the course GitHub repo. \n",
    "\n",
    "You may not use any function that trivializes a problem. For example, if I ask you to write a `max` function that computes the maximum entry in a list, you are not allowed to use the pre-defined Python function `max`; you must write your own."
   ]
  },
  {
   "cell_type": "markdown",
   "id": "ab578a48",
   "metadata": {},
   "source": [
    "## Exercise 1\n",
    "1. Write a script or function that asks the user to input 3 numbers, and output the product of the 3 numbers.\n",
    "1. Your code should display an error message if one of the inputs is not a number.\n",
    "1. Test your code on the following inputs:  \n",
    "    1. (5, -10, 20.0)\n",
    "    1. (1, \"blah\", 5)"
   ]
  },
  {
   "cell_type": "code",
   "execution_count": null,
   "id": "5320f35f",
   "metadata": {},
   "outputs": [],
   "source": [
    "## Write your code here\n"
   ]
  },
  {
   "cell_type": "code",
   "execution_count": null,
   "id": "0f569b9d",
   "metadata": {},
   "outputs": [],
   "source": [
    "## Test your code here\n"
   ]
  },
  {
   "cell_type": "markdown",
   "id": "5a19e585",
   "metadata": {},
   "source": [
    "## Exercise 2\n",
    "Suppose the first element of a sequence is $a_0 = 1$, the second element is $a_1 = 3$, and for every $i>1$, the $i$--th element of the sequence is defined by the recursive relation $a_i = \\frac{(a_{i-1}-a_{i-2})^2}{3}$. (So $a_2 = 4/3$)\n",
    "1. Write a function which outputs the $n$--th element of this sequence for a given positive integer $n$\n",
    "2. Test your function for $n = 1, 5, 10, 15,$ and $20$"
   ]
  },
  {
   "cell_type": "code",
   "execution_count": 3,
   "id": "f6ca3719",
   "metadata": {},
   "outputs": [],
   "source": [
    "# Write your function here\n",
    "def sequence(n):\n",
    "#Base1\n",
    "  if n==0: \n",
    "    return 1\n",
    "#Base2\n",
    "  if n==1: \n",
    "    return 3\n",
    "  array=[]\n",
    "  #Term \n",
    "  array.append(1)\n",
    " array.append(3)\n",
    "#Loop from 2\n",
    "  for i in range(2,n+1):\n",
    "array.append(((array[i-1]-array[i-2])**2)/3)\n",
    "   #Return\n",
    "  return array[n] "
   ]
  },
  {
   "cell_type": "code",
   "execution_count": 6,
   "id": "61ca3cd4",
   "metadata": {},
   "outputs": [
    {
     "name": "stdout",
     "output_type": "stream",
     "text": [
      "3\n",
      "0.25264753615031454\n",
      "3.986380447622439e-09\n",
      "2.2496046712168145e-35\n"
     ]
    }
   ],
   "source": [
    "# Test your function here\n",
    "print(sequence(1))\n",
    "print(sequence(5))\n",
    "print(sequence(10))\n",
    "print(sequence(15))"
   ]
  },
  {
   "cell_type": "markdown",
   "id": "cc61635f",
   "metadata": {},
   "source": [
    "## Exercise 3\n",
    "1. Write a function which takes a list as input and outputs the largest **integer** entry. If there is none, return `None`.\n",
    "1. Test your function on the following lists\n",
    "    1. \\[ 1, 9, 10.2, 6, -2\\]\n",
    "    1. \\[1.2, 3/4, \"Hello World\"\\]"
   ]
  },
  {
   "cell_type": "code",
   "execution_count": 6,
   "id": "83ab6b6b",
   "metadata": {},
   "outputs": [],
   "source": [
    "# Write your function here\n"
   ]
  },
  {
   "cell_type": "code",
   "execution_count": 5,
   "id": "34fc38bf",
   "metadata": {},
   "outputs": [],
   "source": [
    "# Test your function here\n",
    "[ 1, 9, 10.2, 6, -2]\n",
    "[1.2, 3/4, \"Hello World\"]"
   ]
  },
  {
   "cell_type": "markdown",
   "id": "034c4b5b",
   "metadata": {},
   "source": [
    "## Exercise 4\n",
    "1. Create a program that will make a deck of cards. Each card should be represented as a tuple of the form `(value, suit)`, where `value` is a number between 2 and 10, Jack, Queen, King, or Ace, and `suit` is one of Spades, Clubs, Diamonds, or Hearts. (So at the end, you should have a list of 52 tuples representing a 52 card deck)\n",
    "1. Create a function that takes in a hand (list) of 5 cards, and determines whether or not the hand is a \"flush\", meaning that all 5 cards are of the same suit.\n",
    "1. Test your function by inputting the following hands:\n",
    "    1. Ace of Hearts, King of Hearts, Queen of Hearts, Jack of Hearts, 2 of Hearts\n",
    "    1. 2 of Clubs, 3 of Spades, 4 of Clubs, 10 of Diamonds, Jack of Spades"
   ]
  },
  {
   "cell_type": "code",
   "execution_count": 1,
   "id": "da6e783c",
   "metadata": {},
   "outputs": [],
   "source": [
    "# Write your functions here"
   ]
  },
  {
   "cell_type": "code",
   "execution_count": 2,
   "id": "60e52675",
   "metadata": {},
   "outputs": [],
   "source": [
    "# Test your functions here"
   ]
  },
  {
   "cell_type": "markdown",
   "id": "927f5792",
   "metadata": {},
   "source": [
    "## Exercise 5\n",
    "1. Write a function or script that takes in a string and whose output is the input string minus all of a specified character.  For example, an input of \"Hello World\" where \"l\" is removed should result in \"Heo Word\"\n",
    "1. Test your function by specifying \"i\" to be removed from \"Supercalifragilisticexpialidocious\"\n",
    "1. Test your function by specifying \"data\" to be removed from \"data 3401 introduction to python for data science\""
   ]
  },
  {
   "cell_type": "code",
   "execution_count": 12,
   "id": "e5e22485",
   "metadata": {},
   "outputs": [],
   "source": [
    "# Write your function here\n",
    "# remove x from the str\n",
    "def remove(str,x): \n",
    "    #replace all of x with '' empty string\n",
    "        str = str.replace(x,'')\n",
    "        return str;"
   ]
  },
  {
   "cell_type": "code",
   "execution_count": 13,
   "id": "a789e96b",
   "metadata": {},
   "outputs": [
    {
     "name": "stdout",
     "output_type": "stream",
     "text": [
      "Heo Word\n",
      "Supercalfraglstcexpaldocous\n",
      " 3401 introduction to python for  science\n"
     ]
    }
   ],
   "source": [
    "# Test your function here\n",
    "#printing test outputs 1,2,3\n",
    "test1 = remove(\"Hello World\",\"l\")\n",
    "print(test1)\n",
    "test2 = remove(\"Supercalifragilisticexpialidocious\",\"i\")\n",
    "print(test2)\n",
    "test3 = remove(\"data 3401 introduction to python for data science\", \"data\")\n",
    "print(test3)"
   ]
  },
  {
   "cell_type": "code",
   "execution_count": null,
   "id": "7c52ab74",
   "metadata": {},
   "outputs": [],
   "source": []
  }
 ],
 "metadata": {
  "kernelspec": {
   "display_name": "Python 3 (ipykernel)",
   "language": "python",
   "name": "python3"
  },
  "language_info": {
   "codemirror_mode": {
    "name": "ipython",
    "version": 3
   },
   "file_extension": ".py",
   "mimetype": "text/x-python",
   "name": "python",
   "nbconvert_exporter": "python",
   "pygments_lexer": "ipython3",
   "version": "3.8.10"
  }
 },
 "nbformat": 4,
 "nbformat_minor": 5
}
