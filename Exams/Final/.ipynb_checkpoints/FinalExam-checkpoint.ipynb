{
 "cells": [
  {
   "cell_type": "markdown",
   "id": "6b15cca1",
   "metadata": {},
   "source": [
    " # <center>Final Exam &ndash; DATA 3401 (Fall 2021)</center>\n",
    "\n",
    "## Start Date: 12/6\n",
    "## Due Date: 12/15 (at 1:30pm ) &ndash; this is a hard deadline so don't miss it!\n",
    "\n",
    "## Final Rules\n",
    "This final exam is simliar to the midterm exam. Please work the exercises below **on your own**.  When you have completed the exam, you should push your completed jupyter notebook to your GitHub repo for this class in the **Exams->Final** folder.\n",
    "\n",
    "You may not discuss the problems with **anyone else**, including persons on an online internet forum. Consulting an outside source like this will be considered an academic integrity violation.\n",
    "\n",
    "You may use all class resources including previous labs and lectures, and anything posted on the course GitHub repo. \n",
    "\n",
    "You may not use any function that trivializes a problem. For example, if I ask you to write a `max` function that computes the maximum entry in a list, you are not allowed to use the pre-defined Python function `max`; you must write your own.\n",
    "\n",
    "Each problem below (including the Bonus) will be worth approximately 20 points. Achieving over 100 on this exam is possible if the Bonus is completed."
   ]
  },
  {
   "cell_type": "markdown",
   "id": "6a8e04e0",
   "metadata": {},
   "source": [
    "## Exercise 1\n",
    "Download the adult.names and adult.data files from the Final folder in the course GitHub repo.\n",
    "1. Print the adult.names file in your jupyter notebook\n",
    "1. Using pandas, make a dataframe from the adult.data file and print its `head()`\n",
    "1. Delete the column titled 'fnlwgt' from your dataframe\n",
    "1. Plot a histogram showing how many people from each working class make above 50k per year and below 50k per year\n",
    "1. Similarly, plot a histogram showing how many people from each education level make above and below 50k per year\n",
    "1. Choose one other category and plot a histogram similar to the above\n",
    "1. Discuss the results of these histograms. What (if any) conclusions can you draw from them?"
   ]
  },
  {
   "cell_type": "code",
   "execution_count": 3,
   "id": "93582ab2",
   "metadata": {},
   "outputs": [],
   "source": [
    "## Write your code here\n"
   ]
  },
  {
   "cell_type": "markdown",
   "id": "ad0e2e8e",
   "metadata": {},
   "source": [
    "## Exercise 2\n",
    "If you invest a principal value of $P$ at time 0, and interest is continuously compounded at a rate $r$ ($0<r<1$), then the amount of money you would have after $t$ years is\n",
    "$$M(t) = Pe^{rt}.$$\n",
    "Fry has \\\\$0.01 in his bank account, but is accidentally transported 1,000 years into the future. He returns to his bank (which luckily still exists) to see how much money he now has. Assume Fry's account earns continuously compounded interest at a rate of 5\\% (or $r=0.05$).\n",
    "1. Create a numpy array of time from 0 to 1,000 years increasing by 1 year\n",
    "1. Create a new numpy array that calculates how much money Fry's account has at each year\n",
    "1. Plot Fry's money over the given timeframe\n",
    "\n",
    "Now if Fry only earned simple interest, the amount of money he would have after $t$ years would be\n",
    "$$ S(t) = P(1+rt).$$\n",
    "\n",
    "1. Perform the same procedure as steps 1-3 above assuming Fry earns 5\\% simple interest.\n",
    "1. To illustrate the difference, also plot $M(t)-S(t)$ over the timeframe.\n",
    "1. What do you conclude?\n",
    "\n",
    "*Aside:* This problem, while silly, should teach you an important lesson: invest your money as early as you possibly can!"
   ]
  },
  {
   "cell_type": "code",
   "execution_count": 5,
   "id": "33135bac",
   "metadata": {},
   "outputs": [],
   "source": [
    "# Write your code here"
   ]
  },
  {
   "cell_type": "markdown",
   "id": "067c9816",
   "metadata": {},
   "source": [
    "## Exercise 3\n",
    "In Lab 7 you coded a random walk in 1-dimension. Here you will code a 2-dimensional random walk.  \n",
    "1. As before, write a function `random_walk(num_steps,init_position)` that takes an integer for `num_steps` corresponding to how many steps the random walker will take, and a numpy array for `init_position` with x and y coordinates of the starting point. The function should return the full sequence of positions of the walker as they take `num_steps` steps\n",
    "1. To determine the next location of the walker at a given step, the walker uniformly randomly chooses to walk one of 4 possible directions: up, down, left, or right and takes a step of length 1 in either direction (e.g., if the walker starts at (0,0), their possible moves for the first step are up=(0,1), down=(0,-1), left=(-1,0), right=(1,0))\n",
    "1. Call your `random_walk` function 5 times with initial position of (0,0) and 10,000 steps and plot the random walk for each function call using pyplot (here is an example of what it should look like; if the image does not render in GitHub, open 2drandomwalk.png in the Final folder)\n",
    "![2drandomwalk.png](2drandomwalk.png)\n",
    "1. What do you notice?\n",
    "1. Modify your random walk such that the walker is more likely to travel up (specifically, they will step up with probability .7 and the remaining directions each with probability .1).\n",
    "1. Call your modified random walk function 5 times and plot the results.\n",
    "1. What do you notice? Is there a difference in behavior compared to the original version?"
   ]
  },
  {
   "cell_type": "code",
   "execution_count": 7,
   "id": "dbe86ac3",
   "metadata": {},
   "outputs": [],
   "source": [
    "# Write your code here"
   ]
  },
  {
   "cell_type": "markdown",
   "id": "fc81dda3",
   "metadata": {},
   "source": [
    "## Exercise 4\n",
    "Download the Shakespeare.txt file for this problem.\n",
    "1. Print the file in your notebook.\n",
    "**Steps 1 and 2 below can be done in whichever order you like**\n",
    "1. Take out all line-break characters from the file\n",
    "1. Delete all instance of \"the\", \"in\", \"and\"\n",
    "\n",
    "1. Print the modified file"
   ]
  },
  {
   "cell_type": "code",
   "execution_count": 9,
   "id": "821a2e72",
   "metadata": {},
   "outputs": [],
   "source": [
    "# Write your code here"
   ]
  },
  {
   "cell_type": "markdown",
   "id": "99d95afe",
   "metadata": {},
   "source": [
    "## Exercise 5\n",
    "1. Create a `card` class that has two attributes: `value` and `suit`. A card should be initialized by passing it both the value and suit.\n",
    "1. Create a `deck` class to represent a deck of cards.\n",
    "    1. Each card in the deck should be of type card (the class you made in Step 1)\n",
    "    1. Your deck should be a list of 52 cards (see midterm for card description if needed)\n",
    "    1. Your deck should be ordered, and should have the option of `shuffled` (True or False) upon initialization. If `shuffled` is False, the deck should be in order (Ace-2 of Spades, Ace-2 of Clubs, Ace-2 of Diamonds, Ace-2 of Hearts), otherwise if `shuffled` is True, the deck should be randomly ordered\n",
    "    1. Create a method `deal_cards(num_cards)` that chooses the **first** `num_cards` cards from the deck and returns a list of these cards. This method should also remove the cards from the deck.\n",
    "    1. Create a `shuffle` method to shuffle the deck.\n",
    "1. Create a subclass of `deck` called `hand`\n",
    "    1. A `hand` will be a list of cards\n",
    "    1. A `hand` should be initialized with an option of `num_cards` for the number of cards in the hand, and should be initialized via the `deal_cards` method of your `deck` class\n",
    "    1. Create (or repurpose your old function) a method to check if the hand is a flush, and if so determine the suit\n",
    "    1. Create a method to check if a hand is a straight (consecutive cards; for simplicity, assume Ace is high (i.e., Ace, King, ..., 2 is the order of the numbers))\n",
    "1. Using your classes, create an unshuffled deck, and deal 5 hands of 5 cards each. \n",
    "    1. Check if each hand is a flush, and report the results along with the suits of the flush(es). \n",
    "    1. Check if each hand is a straight and report the results\n",
    "1. Create a shuffled deck and deal 9 hands of 5 cards. Check for straights and flushes and report the results."
   ]
  },
  {
   "cell_type": "code",
   "execution_count": 1,
   "id": "f9f84843",
   "metadata": {},
   "outputs": [],
   "source": [
    "# Write your code here"
   ]
  },
  {
   "cell_type": "markdown",
   "id": "4ecbd688",
   "metadata": {},
   "source": [
    "## Bonus\n",
    "Create a Texas Hold 'em Poker game (there will be no betting)\n",
    "\n",
    "Texas Hold 'em is a poker game in which each player is dealt 2 cards face down, and the dealer (eventually) deals 5 cards face up that are shared among all players.\n",
    "\n",
    "1. You may (but do not have to) use your classes from Exercise 5 above.  Your game should have input of `num_players` which is an integer from 2-9.  \n",
    "1. You should randomly deal players 2 card hands, and deal the \"common hand\" of 5 cards. (There will be no rounds of betting like in reality, so you can just deal everything at once).\n",
    "1. For each player, you should take the 7 cards (their 2 plus the 5 common cards) and determine the *best* 5 card hand\n",
    "    1. For a list of poker hands in order see here (there will be no jokers, so straight flush is the highest hand) https://en.wikipedia.org/wiki/List_of_poker_hands\n",
    "1. Once you have determined each player's best 5-card hand, you should check which player is the winner\n",
    "1. For clarity, when you run your game, you should display all players' 2-card hand and the 5 common cards, and you should then display each player's best hand as well as the winner.\n",
    "1. Run your game 4 times with 2 players and 4 times with 9 players and report the outcomes."
   ]
  },
  {
   "cell_type": "code",
   "execution_count": null,
   "id": "38a78af9",
   "metadata": {},
   "outputs": [],
   "source": [
    "# Write your code here"
   ]
  }
 ],
 "metadata": {
  "kernelspec": {
   "display_name": "Python 3 (ipykernel)",
   "language": "python",
   "name": "python3"
  },
  "language_info": {
   "codemirror_mode": {
    "name": "ipython",
    "version": 3
   },
   "file_extension": ".py",
   "mimetype": "text/x-python",
   "name": "python",
   "nbconvert_exporter": "python",
   "pygments_lexer": "ipython3",
   "version": "3.8.10"
  }
 },
 "nbformat": 4,
 "nbformat_minor": 5
}
