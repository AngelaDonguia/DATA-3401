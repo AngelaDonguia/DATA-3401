{
 "cells": [
  {
   "cell_type": "markdown",
   "metadata": {},
   "source": [
    "# <center>Lab 3 &ndash; DATA 3401 (Fall 2021)</center>\n",
    "\n",
    "## Lab Date: 9/17\n",
    "## Due Date 9/24 (before the beginning of lab)\n",
    "\n",
    "## Lab Description\n",
    "The purpose of this lab is for you to gain practice with values, variables, and types as we have discussed in lecture"
   ]
  },
  {
   "cell_type": "markdown",
   "metadata": {},
   "source": [
    "## Exercise\n",
    "- As in the previous lab, copy and paste the cells below into a jupyter notebook titled Lab 3\n",
    "- Solve the problems and push them to a new Lab 3 folder in your GitHub repo prior to the deadline"
   ]
  },
  {
   "cell_type": "markdown",
   "metadata": {},
   "source": [
    "### Problem 1:\n",
    "Write a function that computes the first n Fibonacci numbers for a given integer n.  The first two Fibonacci numbers are 1, and the subsequent numbers are obtained by adding the previous two (so the first 6 Fibonacci numbers are 1, 1, 2, 3, 5, 8).\n",
    "Test your function with n = 12."
   ]
  },
  {
   "cell_type": "code",
   "execution_count": null,
   "metadata": {},
   "outputs": [],
   "source": [
    "# Write your function here \n",
    "def fibonacci\n",
    "(int n)\n",
    "   int n1=1,n2=1,n3\n",
    "   print(n1+\" \"+n2)"
   ]
  },
  {
   "cell_type": "code",
   "execution_count": null,
   "metadata": {},
   "outputs": [],
   "source": [
    "# Test your function here\n",
    "   for(int i=3;i<=n;i++)\n",
    "  return n3=n1+n2;\n"
   ]
  },
  {
   "cell_type": "markdown",
   "metadata": {},
   "source": [
    "### Problem 2:\n",
    "Write two functions `even(x)` and `odd(x)` that test if an integer x is even (or odd), and returns `True` if x is even (or odd) and `False` otherwise. Test both of your functions for correctness in the second and third cells below"
   ]
  },
  {
   "cell_type": "code",
   "execution_count": null,
   "metadata": {},
   "outputs": [],
   "source": [
    "# Write your functions here\n",
    "def string\n",
    "println(even(12));\n",
    "println(odd(12));"
   ]
  },
  {
   "cell_type": "code",
   "execution_count": null,
   "metadata": {},
   "outputs": [],
   "source": [
    "# Test your even function here\n",
    " even(int n)\n",
    "    if(n%2!=0)\n",
    "   return true;\n",
    "   else\n",
    "   return false;"
   ]
  },
  {
   "cell_type": "code",
   "execution_count": null,
   "metadata": {},
   "outputs": [],
   "source": [
    "# Test your odd function here\n",
    "odd(int n)\n",
    "   if(n%2!=0)\n",
    "   return true;\n",
    "   else\n",
    "   return false;"
   ]
  },
  {
   "cell_type": "markdown",
   "metadata": {},
   "source": [
    "### Problem 3:\n",
    "Write a function that takes in a list of numbers, and outputs the maximum number in the list."
   ]
  },
  {
   "cell_type": "code",
   "execution_count": null,
   "metadata": {},
   "outputs": [],
   "source": [
    "# Write your function here\n",
    "def numbers\n",
    "(Integer)();\n",
    "       num.add(1);\n",
    "       num.add(10);\n",
    "       num.add(9);\n",
    "       num.add(81);\n",
    "       num.add(12);\n",
    "       num.add(23);\n",
    "        print(maxNum(num)"
   ]
  },
  {
   "cell_type": "code",
   "execution_count": null,
   "metadata": {},
   "outputs": [],
   "source": [
    "# Test your function here (Note: test it on a list where the numbers are not in order)\n",
    "int max\n",
    "max=num.get(i)\n",
    "   \n",
    "   return max;"
   ]
  },
  {
   "cell_type": "markdown",
   "metadata": {},
   "source": [
    "### Problem 4:\n",
    "Write a function that takes a list of numbers as input and returns a list of the subset of elements that are less that 10. Test your solution."
   ]
  },
  {
   "cell_type": "code",
   "execution_count": null,
   "metadata": {},
   "outputs": [],
   "source": [
    "# Write your function here\n",
    "def numbers\n",
    "Integer>();\n",
    "       num.add(1);\n",
    "       num.add(10);\n",
    "       num.add(9);\n",
    "       num.add(81);\n",
    "       num.add(5);\n",
    "       num.add(8);\n",
    "       for(int a:result(num)"
   ]
  },
  {
   "cell_type": "code",
   "execution_count": null,
   "metadata": {},
   "outputs": [],
   "source": [
    "# Test your function here\n",
    " for(int i=0;i<num.size();i++){\n",
    "   if(num.get(i)<max\n",
    "       return numList;"
   ]
  },
  {
   "cell_type": "markdown",
   "metadata": {},
   "source": [
    "### Problem 5: \n",
    "Write a function that takes a number `x_max` as input and returns a function that performs the same task as exercise 2, but for `x_max` instead of 10."
   ]
  },
  {
   "cell_type": "code",
   "execution_count": null,
   "metadata": {},
   "outputs": [],
   "source": [
    "# Write your function here\n",
    "def numbers\n",
    " num.add(1);\n",
    "       num.add(10);\n",
    "       num.add(9);\n",
    "       num.add(81);\n",
    "       num.add(5);\n",
    "       num.add(8);\n",
    "       int max=12;\n",
    "       for(int (num,max))"
   ]
  },
  {
   "cell_type": "code",
   "execution_count": null,
   "metadata": {},
   "outputs": [],
   "source": [
    "# Test your function here\n",
    "return numList;"
   ]
  },
  {
   "cell_type": "markdown",
   "metadata": {},
   "source": [
    "### Problem 6:\n",
    "Write a function that takes an integer and returns all its divisors (for example, the divisors of 18 are 1, 2, 3, 6, 9, and 18)"
   ]
  },
  {
   "cell_type": "code",
   "execution_count": null,
   "metadata": {},
   "outputs": [],
   "source": [
    "# Write your function here\n",
    "def divisors (n):\n",
    "    k=[]\n",
    "    for i in range (1,n+1):\n",
    "        if(n%i==0):\n",
    "            #return k\n",
    "            return k"
   ]
  },
  {
   "cell_type": "code",
   "execution_count": null,
   "metadata": {},
   "outputs": [],
   "source": [
    "# Test your function here\n",
    "n=int(input())\n",
    "result=divisors (n)\n",
    "print (*result)\n"
   ]
  },
  {
   "cell_type": "markdown",
   "metadata": {},
   "source": [
    "## Problem 7:\n",
    "Write a function that reads takes a string and returns True if the string is a palindrome. (A palindrome is a string that reads the same forwards and backwards.)"
   ]
  },
  {
   "cell_type": "code",
   "execution_count": null,
   "metadata": {},
   "outputs": [],
   "source": [
    "# Write your function here\n",
    "def palindrome(string):\n",
    "if(string==string[::-1]):\n",
    "    #if it's same, return True\n",
    "return True\n",
    "#if not the same\n",
    "else:\n",
    "    #return false\n",
    "return False"
   ]
  },
  {
   "cell_type": "code",
   "execution_count": null,
   "metadata": {},
   "outputs": [],
   "source": [
    "# Test your function here\n",
    "string=input()\n",
    "print(palindrome(string))"
   ]
  },
  {
   "cell_type": "markdown",
   "metadata": {},
   "source": [
    "## Problem 8:\n",
    "Write a function that takes an integer input between 1 and 10.  If the input is 4, 5, or 6, then display a message 'Congratulations, you win the prize!'.  If the input is less than 4 or greater than 6, then display a mesage 'Sorry, try again.'  If the input is less than 1, greater than 10, or not an integer, display a message 'Invalid input, please input an integer between 1 and 10'."
   ]
  },
  {
   "cell_type": "code",
   "execution_count": null,
   "metadata": {},
   "outputs": [],
   "source": [
    "# Write your function here\n",
    "def display(n):\n",
    "if(n<1 or n>10 or type(n)!=int):\n",
    "return \"Invalid input, please input an integer between 1 and 10\"\n",
    "elif(n>=4 and n<=6):\n",
    "return \"Congratulations,you win the prize!\"\n",
    "#else try again\n",
    "else:\n",
    "return \"Sorry, try again.\""
   ]
  },
  {
   "cell_type": "code",
   "execution_count": null,
   "metadata": {},
   "outputs": [],
   "source": [
    "# Test your function here (Note, you should test all possible cases for completeness)\n",
    "n=eval(input())\n",
    "print(display(n))"
   ]
  },
  {
   "cell_type": "markdown",
   "metadata": {},
   "source": [
    "## Problem 9:\n",
    "Write a Rock-Paper-Scissors game function, that takes 2 strings, the inputs of player 1 and player 2, and output 1 or 2 corresponding to which player wins, or 0 if draw.\n",
    "\n",
    "Implement a Rock-Paper-Scissors game by soliciting input from 2 players, testing with this function, and repeating if there is a draw.\n",
    "\n",
    "Remember the rules:\n",
    "\n",
    "- Rock beats scissors\n",
    "- Scissors beats paper\n",
    "- Paper beats rock"
   ]
  },
  {
   "cell_type": "code",
   "execution_count": null,
   "metadata": {},
   "outputs": [],
   "source": [
    "# Write your function here\n"
   ]
  },
  {
   "cell_type": "code",
   "execution_count": null,
   "metadata": {},
   "outputs": [],
   "source": [
    "# Test your function here (Note, you should test all possible cases for completeness)\n",
    "\n"
   ]
  }
 ],
 "metadata": {
  "kernelspec": {
   "display_name": "Python 3 (ipykernel)",
   "language": "python",
   "name": "python3"
  },
  "language_info": {
   "codemirror_mode": {
    "name": "ipython",
    "version": 3
   },
   "file_extension": ".py",
   "mimetype": "text/x-python",
   "name": "python",
   "nbconvert_exporter": "python",
   "pygments_lexer": "ipython3",
   "version": "3.8.10"
  }
 },
 "nbformat": 4,
 "nbformat_minor": 2
}
