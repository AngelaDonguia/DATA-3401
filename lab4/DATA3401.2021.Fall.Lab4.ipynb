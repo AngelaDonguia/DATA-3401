{
 "cells": [
  {
   "cell_type": "markdown",
   "metadata": {},
   "source": [
    "# <center>Lab 4 &ndash; DATA 3401 (Fall 2021)</center>\n",
    "\n",
    "## Lab Dates: 9/24 & 10/1\n",
    "## Due Date 10/8 (before the beginning of lab)\n",
    "\n",
    "## Lab Description\n",
    "The purpose of this lab is for you to code your own tic-tac-toe game that takes input from the user for each player and visualizes the state of the board after each move\n",
    "- As in the previous labs, copy and paste the cells below into a jupyter notebook titled Lab 4\n",
    "- Solve the problems and push them to a new Lab 4 folder in your GitHub repo prior to the deadline\n",
    "\n",
    "You will build an n x n Tic Tac Toe game. As you do the exercises, make sure your solutions work for any size Tic Tac Toe game, not just the standard 3x3. "
   ]
  },
  {
   "cell_type": "markdown",
   "metadata": {},
   "source": [
    "## Exercise 1:\n",
    "Write a function that creates an n by n matrix (a list of lists) which will represent the state of a Tic Tac Toe game. Let 0, 1, and 2 represent empty, \"X\", or \"O\"."
   ]
  },
  {
   "cell_type": "code",
   "execution_count": 3,
   "metadata": {},
   "outputs": [],
   "source": [
    "def make_game(size=3):\n",
    "    Tic_Tac_Toe=[[0]*size for i in range(size)]\n",
    "    return Tic_Tac_Toe"
   ]
  },
  {
   "cell_type": "code",
   "execution_count": 2,
   "metadata": {},
   "outputs": [
    {
     "data": {
      "text/plain": [
       "[[0, 0, 0], [0, 0, 0], [0, 0, 0]]"
      ]
     },
     "execution_count": 2,
     "metadata": {},
     "output_type": "execute_result"
    }
   ],
   "source": [
    "game=make_game(3)\n",
    "game"
   ]
  },
  {
   "cell_type": "markdown",
   "metadata": {},
   "source": [
    "## Exercise 2:\n",
    "Write a function that takes a `n` by `n` matrix representing a tic-tac-toe game, and returns -1, 0, 1, or 2 indicating the game is incomplete, the game is a draw, player 1 has won, or player 2 has one, respectively. Here are some example inputs you can use to test your code:"
   ]
  },
  {
   "cell_type": "code",
   "execution_count": null,
   "metadata": {},
   "outputs": [],
   "source": [
    "def make_game_board(num_rows,num_cols):\n",
    "    board = [[empty]*num_cols for i in range(num_rows)]\n",
    "    \n",
    "    global row_names, row_map, column_names, column_map\n",
    "    row_names = list(\"ABCDEFGHIJKLMNOPQRSTUVWXYZ\")\n",
    "    row_map = dict(zip(row_names,range(num_rows)))\n",
    "\n",
    "    column_names = list(map(str,range(1,num_cols+1)))\n",
    "    column_map = dict(zip(column_names,range(num_cols)))\n",
    "    \n",
    "    return board"
   ]
  },
  {
   "cell_type": "code",
   "execution_count": null,
   "metadata": {
    "collapsed": true
   },
   "outputs": [],
   "source": [
    "def draw_board(board):\n",
    "    num_rows = len(board)\n",
    "    num_cols = len(board[0])\n",
    "      \n",
    "    print(\"  \",end=\" \")\n",
    "    for i in range(num_cols):\n",
    "        print(column_names[i],end=\" \")\n",
    "        print(\" \",end = \" \")\n",
    "    \n",
    "    print()\n",
    "    print(\"  \",end=\" \")\n",
    "    print(\"----\"*num_cols)\n",
    "    for i in range(num_rows):\n",
    "        print(row_names[i],end=\" \")\n",
    "        print(\"|\",end=\" \")\n",
    "        for j in range(num_cols):\n",
    "            print(space_character[board[i][j]],end=\" \")\n",
    "            print(\"|\",end=\" \")\n",
    "        print()  \n",
    "        print(\"  \",end=\" \")\n",
    "        print(\"----\"*num_cols)\n"
   ]
  },
  {
   "cell_type": "code",
   "execution_count": 57,
   "metadata": {},
   "outputs": [
    {
     "ename": "NameError",
     "evalue": "name 'make_game_board' is not defined",
     "output_type": "error",
     "traceback": [
      "\u001b[0;31m---------------------------------------------------------------------------\u001b[0m",
      "\u001b[0;31mNameError\u001b[0m                                 Traceback (most recent call last)",
      "\u001b[0;32m/tmp/ipykernel_233/3657504922.py\u001b[0m in \u001b[0;36m<module>\u001b[0;34m\u001b[0m\n\u001b[0;32m----> 1\u001b[0;31m \u001b[0mboard2\u001b[0m \u001b[0;34m=\u001b[0m \u001b[0mmake_game_board\u001b[0m\u001b[0;34m(\u001b[0m\u001b[0;36m4\u001b[0m\u001b[0;34m,\u001b[0m\u001b[0;36m5\u001b[0m\u001b[0;34m)\u001b[0m\u001b[0;34m\u001b[0m\u001b[0;34m\u001b[0m\u001b[0m\n\u001b[0m\u001b[1;32m      2\u001b[0m \u001b[0mdraw_board\u001b[0m\u001b[0;34m(\u001b[0m\u001b[0mboard2\u001b[0m\u001b[0;34m)\u001b[0m\u001b[0;34m\u001b[0m\u001b[0;34m\u001b[0m\u001b[0m\n",
      "\u001b[0;31mNameError\u001b[0m: name 'make_game_board' is not defined"
     ]
    }
   ],
   "source": [
    "board2 = make_game_board(4,5)\n",
    "draw_board(board2)"
   ]
  },
  {
   "cell_type": "markdown",
   "metadata": {},
   "source": [
    "## Exercise 3\n",
    "Write a function that takes 2 integers `n` and `m` as input and draws a `n` by `m` game board. For example the following is a 3x3 board:\n",
    "```\n",
    "   --- --- --- \n",
    "  |   |   |   | \n",
    "   --- --- ---  \n",
    "  |   |   |   | \n",
    "   --- --- ---  \n",
    "  |   |   |   | \n",
    "   --- --- --- \n",
    "   ```"
   ]
  },
  {
   "cell_type": "code",
   "execution_count": null,
   "metadata": {
    "collapsed": true
   },
   "outputs": [],
   "source": [
    "def draw_board(n,m):\n",
    "for i in range(n):\n",
    "    print(\"---\"*m)\n",
    "    print(\"|  \"*(m+1))\n",
    "print(\"---\"*m)"
   ]
  },
  {
   "cell_type": "code",
   "execution_count": 39,
   "metadata": {},
   "outputs": [
    {
     "ename": "NameError",
     "evalue": "name 'draw_board' is not defined",
     "output_type": "error",
     "traceback": [
      "\u001b[0;31m---------------------------------------------------------------------------\u001b[0m",
      "\u001b[0;31mNameError\u001b[0m                                 Traceback (most recent call last)",
      "\u001b[0;32m/tmp/ipykernel_233/2699794983.py\u001b[0m in \u001b[0;36m<module>\u001b[0;34m\u001b[0m\n\u001b[0;32m----> 1\u001b[0;31m \u001b[0mdraw_board\u001b[0m\u001b[0;34m(\u001b[0m\u001b[0;36m3\u001b[0m\u001b[0;34m,\u001b[0m\u001b[0;36m3\u001b[0m\u001b[0;34m)\u001b[0m\u001b[0;34m\u001b[0m\u001b[0;34m\u001b[0m\u001b[0m\n\u001b[0m",
      "\u001b[0;31mNameError\u001b[0m: name 'draw_board' is not defined"
     ]
    }
   ],
   "source": [
    "draw_board(3,3)"
   ]
  },
  {
   "cell_type": "markdown",
   "metadata": {},
   "source": [
    "## Exercise 4:\n",
    "Modify exercise 3, so that it takes a matrix of the form from exercise 2 and draws a tic-tac-tie board with \"X\"s and \"O\"s.  "
   ]
  },
  {
   "cell_type": "code",
   "execution_count": 7,
   "metadata": {},
   "outputs": [],
   "source": [
    "def draw_tic_tac_toe(matrix):\n",
    "l = len(matrix)\n",
    "  \n",
    "for i in range(l):\n",
    "    if i!=0:\n",
    "    print(\"\\n----------\")\n",
    "    for j in range(l):\n",
    "    var = matrix[i][j]\n",
    "      if var == 1:\n",
    "        var = \"X\"\n",
    "    if var == 2:\n",
    "        var = \"O\"\n",
    "    if var == 0:\n",
    "        var = \" \"\n",
    "    if j!=0:\n",
    "    print(\"| \"+var+\" \",end=\"\")\n",
    "      if j==0:\n",
    "    print(\" \"var,end=\"\")"
   ]
  },
  {
   "cell_type": "code",
   "execution_count": 50,
   "metadata": {},
   "outputs": [
    {
     "ename": "NameError",
     "evalue": "name 'no_winner' is not defined",
     "output_type": "error",
     "traceback": [
      "\u001b[0;31m---------------------------------------------------------------------------\u001b[0m",
      "\u001b[0;31mNameError\u001b[0m                                 Traceback (most recent call last)",
      "\u001b[0;32m/tmp/ipykernel_233/1496640977.py\u001b[0m in \u001b[0;36m<module>\u001b[0;34m\u001b[0m\n\u001b[0;32m----> 1\u001b[0;31m \u001b[0mdraw_tic_tac_toe\u001b[0m\u001b[0;34m(\u001b[0m\u001b[0mno_winner\u001b[0m\u001b[0;34m)\u001b[0m\u001b[0;34m\u001b[0m\u001b[0;34m\u001b[0m\u001b[0m\n\u001b[0m",
      "\u001b[0;31mNameError\u001b[0m: name 'no_winner' is not defined"
     ]
    }
   ],
   "source": [
    "draw_tic_tac_toe(no_winner)"
   ]
  },
  {
   "cell_type": "markdown",
   "metadata": {},
   "source": [
    "## Exercise 5:\n",
    "Write a function that takes a game board, player number, and `(x,y)` coordinates and places \"X\" or \"O\" in the correct location of the game board. Make sure that you only allow filling previously empty locations. Return `True` or `False` to indicate successful placement of \"X\" or \"O\"."
   ]
  },
  {
   "cell_type": "code",
   "execution_count": 9,
   "metadata": {},
   "outputs": [],
   "source": [
    "def place_on_board(matrix,player_number,x_coordinate,y_coordinate):\n",
    "player_1_piece = \"X\"\n",
    "  player_2_piece = \"O\"\n",
    "empty_space = \" \"\n",
    "  if matrix[x_coordinate][y_coordinate]!=0:\n",
    "    return False\n",
    "  elif player_number == 1:\n",
    "    matrix[x_coordinate][y_coordinate]=1\n",
    "    return True\n",
    "  elif player_number == 2:\n",
    "    matrix[x_coordinate][y_coordinate]=2\n",
    "    return True"
   ]
  },
  {
   "cell_type": "code",
   "execution_count": 13,
   "metadata": {},
   "outputs": [
    {
     "name": "stdout",
     "output_type": "stream",
     "text": [
      "  |   |   \n",
      "----------\n",
      "  |   | O \n",
      "----------\n",
      "  |   |   "
     ]
    }
   ],
   "source": [
    "board=make_game()\n",
    "place_on_board(board,2,1,2)\n",
    "draw_tic_tac_toe(board)"
   ]
  },
  {
   "cell_type": "markdown",
   "metadata": {},
   "source": [
    "## Exercise 6:\n",
    "Modify Exercise 5 to show column and row labels so that players can specify location using \"A2\" or \"C1\"."
   ]
  },
  {
   "cell_type": "code",
   "execution_count": null,
   "metadata": {
    "collapsed": true
   },
   "outputs": [],
   "source": [
    "# Write you solution here\n",
    "def draw_tic_tac_toe_updated(matrix):\n",
    "l = len(matrix)\n",
    "  print(\"  1   2   3\")\n",
    "for i in range(l):\n",
    "    if i!=0:\n",
    "    print(\"\\n  ----------\")\n",
    "    for j in range(l):\n",
    "    var = matrix[i][j]\n",
    "      if var == 1:\n",
    "        var = \"X\"\n",
    "    if var == 2:\n",
    "        var = \"O\"\n",
    "    if var == 0:\n",
    "        var = \" \"\n",
    "    if i==0 and j==0:\n",
    "        print(\"A \",end=\"\")\n",
    "    if i==1 and j==0:\n",
    "        print(\"B \",end=\"\")\n",
    "    if i==2 and j==0:\n",
    "        print(\"C \",end=\"\")\n",
    "    if j!=0:\n",
    "    print(\"| \"+var+\" \",end=\"\")\n",
    "      if j==0:\n",
    "        print(\" \"+var,end=\"\")"
   ]
  },
  {
   "cell_type": "code",
   "execution_count": 47,
   "metadata": {},
   "outputs": [
    {
     "ename": "NameError",
     "evalue": "name 'draw_tic_tac_toe_updated' is not defined",
     "output_type": "error",
     "traceback": [
      "\u001b[0;31m---------------------------------------------------------------------------\u001b[0m",
      "\u001b[0;31mNameError\u001b[0m                                 Traceback (most recent call last)",
      "\u001b[0;32m/tmp/ipykernel_233/3668343047.py\u001b[0m in \u001b[0;36m<module>\u001b[0;34m\u001b[0m\n\u001b[0;32m----> 1\u001b[0;31m \u001b[0mdraw_tic_tac_toe_updated\u001b[0m\u001b[0;34m(\u001b[0m\u001b[0mno_winner\u001b[0m\u001b[0;34m)\u001b[0m\u001b[0;34m\u001b[0m\u001b[0;34m\u001b[0m\u001b[0m\n\u001b[0m",
      "\u001b[0;31mNameError\u001b[0m: name 'draw_tic_tac_toe_updated' is not defined"
     ]
    }
   ],
   "source": [
    "draw_tic_tac_toe_updated(no_winner) "
   ]
  },
  {
   "cell_type": "markdown",
   "metadata": {},
   "source": [
    "## Exercise 7:\n",
    "Write a function that takes a board, player number, and location specified as in exercise 6 and then calls exercise 5 to correctly modify the board.  "
   ]
  },
  {
   "cell_type": "code",
   "execution_count": null,
   "metadata": {
    "collapsed": true
   },
   "outputs": [],
   "source": [
    "# Write you solution here"
   ]
  },
  {
   "cell_type": "code",
   "execution_count": null,
   "metadata": {
    "collapsed": true
   },
   "outputs": [],
   "source": [
    "# Test your solution here"
   ]
  },
  {
   "cell_type": "markdown",
   "metadata": {},
   "source": [
    "## Exercise 8:\n",
    "Write a function is called with a board and player number, takes input from the player using python's `input`, and modifies the board using your function from exercise 7. Note that you should keep asking for input until you have gotten a valid input that results in a valid move."
   ]
  },
  {
   "cell_type": "code",
   "execution_count": null,
   "metadata": {
    "collapsed": true
   },
   "outputs": [],
   "source": [
    "# Write you solution here"
   ]
  },
  {
   "cell_type": "code",
   "execution_count": null,
   "metadata": {
    "collapsed": true
   },
   "outputs": [],
   "source": [
    "# Test your solution here"
   ]
  },
  {
   "cell_type": "markdown",
   "metadata": {},
   "source": [
    "## Exercise 9: \n",
    "Use all of the previous exercises to implement a full tic-tac-toe game, where an appropriate board is drawn, 2 players are repeatedly asked for a location coordinates of where they wish to place a mark, and the game status is checked until a player wins or a draw occurs."
   ]
  },
  {
   "cell_type": "code",
   "execution_count": null,
   "metadata": {
    "collapsed": true
   },
   "outputs": [],
   "source": []
  },
  {
   "cell_type": "code",
   "execution_count": null,
   "metadata": {
    "collapsed": true
   },
   "outputs": [],
   "source": []
  },
  {
   "cell_type": "markdown",
   "metadata": {},
   "source": [
    "## Exercise 10:\n",
    "Test that your game works for 5x5 Tic Tac Toe.  "
   ]
  },
  {
   "cell_type": "code",
   "execution_count": null,
   "metadata": {
    "collapsed": true
   },
   "outputs": [],
   "source": [
    "tictactoe_game()"
   ]
  },
  {
   "cell_type": "markdown",
   "metadata": {},
   "source": [
    "## Exercise 11:(Extra Credit)\n",
    "Develop a version of the game where one player is the computer. Note that you don't need to do an extensive seach for the best move. You can have the computer simply protect against loosing and otherwise try to win with straight or diagonal patterns."
   ]
  },
  {
   "cell_type": "code",
   "execution_count": null,
   "metadata": {
    "collapsed": true
   },
   "outputs": [],
   "source": [
    "# Write you solution here"
   ]
  },
  {
   "cell_type": "code",
   "execution_count": null,
   "metadata": {
    "collapsed": true
   },
   "outputs": [],
   "source": [
    "# Test your solution here"
   ]
  }
 ],
 "metadata": {
  "kernelspec": {
   "display_name": "Python 3 (ipykernel)",
   "language": "python",
   "name": "python3"
  },
  "language_info": {
   "codemirror_mode": {
    "name": "ipython",
    "version": 3
   },
   "file_extension": ".py",
   "mimetype": "text/x-python",
   "name": "python",
   "nbconvert_exporter": "python",
   "pygments_lexer": "ipython3",
   "version": "3.8.10"
  }
 },
 "nbformat": 4,
 "nbformat_minor": 2
}
