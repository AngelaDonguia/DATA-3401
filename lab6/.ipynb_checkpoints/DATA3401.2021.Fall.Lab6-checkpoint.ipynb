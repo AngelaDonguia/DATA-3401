{
 "cells": [
  {
   "cell_type": "markdown",
   "id": "3d165ddf",
   "metadata": {},
   "source": [
    "###### <center>Lab 6 &ndash; DATA 3401 (Fall 2021)</center>\n",
    "\n",
    "## Lab Date: 10/29\n",
    "## Due Date 11/5 (before the beginning of lab)\n",
    "\n",
    "## Lab Description\n",
    "The purpose of this lab is for you to code the Monte Hall problem and a simulator that will run it with different choices and simulate what is the best strategy\n",
    "\n",
    "## Monte Hall Problem\n",
    "In the 1960s there was a game show called Let's Make a Deal, whose host was Monte Hall. One famous game went as follows.\n",
    "1. The host shows the contestant 3 doors, and tells them that behind 1 door is a **brand new car**, while behind the other 2 doors there are goats\n",
    "1. The contestant chooses a door\n",
    "1. Now the host opens one of the remaining 2 doors and shows the contestant that this door held a goat\n",
    "1. The host asks the contestant if they would like to **switch** their choice to the remaining door, or to **stay** with their original guess\n",
    "\n",
    "Here is the question: should the contestant **switch** or **stay**?  "
   ]
  },
  {
   "cell_type": "markdown",
   "id": "3aa637cd",
   "metadata": {},
   "source": [
    "## Exercise 1\n",
    "Write a `game_setup` function that does the following:\n",
    "1. Creates a numpy array representing the 3 doors\n",
    "1. Creates a numpy array representing the prizes (0 for goat and 1 for car).  You should randomly choose one of the elements of the prize array to be a car and the others should be goats.\n",
    "1. Your function should return the arrays of doors and prizes"
   ]
  },
  {
   "cell_type": "code",
   "execution_count": null,
   "id": "d46386f6",
   "metadata": {},
   "outputs": [],
   "source": [
    "# Write your function here\n"
   ]
  },
  {
   "cell_type": "code",
   "execution_count": null,
   "id": "61f9170d",
   "metadata": {},
   "outputs": [],
   "source": [
    "# Test your function here\n"
   ]
  },
  {
   "cell_type": "markdown",
   "id": "fb30036e",
   "metadata": {},
   "source": [
    "## Exercise 2\n",
    "Write a function `choose_door` that asks the user to input an integer 1,2,3 to choose a door and returns the door they chose.  You should catch any errors that the user might make and continue asking for input until the user inputs a valid choice."
   ]
  },
  {
   "cell_type": "code",
   "execution_count": null,
   "id": "bc2b1a78",
   "metadata": {},
   "outputs": [],
   "source": [
    "# Write your function here\n"
   ]
  },
  {
   "cell_type": "code",
   "execution_count": null,
   "id": "e18ab2ba",
   "metadata": {},
   "outputs": [],
   "source": [
    "# Test your function here\n"
   ]
  },
  {
   "cell_type": "markdown",
   "id": "84883a17",
   "metadata": {},
   "source": [
    "## Exercise 3\n",
    "Write a function `switch_stay` that asks the user if they want to switch to the remaining door or stay with their original choice. Catch any errors and continue asking for input until the user inputs a valid choice."
   ]
  },
  {
   "cell_type": "code",
   "execution_count": null,
   "id": "f845412e",
   "metadata": {},
   "outputs": [],
   "source": [
    "# Write your function here\n"
   ]
  },
  {
   "cell_type": "code",
   "execution_count": null,
   "id": "499e424f",
   "metadata": {},
   "outputs": [],
   "source": [
    "# Test your function here\n"
   ]
  },
  {
   "cell_type": "markdown",
   "id": "67681251",
   "metadata": {},
   "source": [
    "## Exercise 4\n",
    "Write a Monte Hall game simulator that introduces the game and proceeds in the steps given in the introduction. After step 4, your function (the host) should tell the player if they won the car! or got the goat :-(\n",
    "1. Be sure to add print statements with appropriate messages to update the player on the status of the game\n",
    "1. In the step where the host reveals a door with a goat behind it, your host should randomly choose from the remaining doors that have goats behind them\n",
    "1. Test your function 3 times in the cells below"
   ]
  },
  {
   "cell_type": "code",
   "execution_count": null,
   "id": "4ba111b0",
   "metadata": {},
   "outputs": [],
   "source": [
    "# Write your function here\n",
    "def getGoatDoor(host, numDoors, choice):\n",
    "    i=0\n",
    "    while (i == host or i == choice):\n",
    "      i = (i+1)%(numDoors)\n",
    "    return i"
   ]
  },
  {
   "cell_type": "code",
   "execution_count": null,
   "id": "2e3d8b25",
   "metadata": {},
   "outputs": [],
   "source": [
    "# Test your function here\n"
   ]
  },
  {
   "cell_type": "markdown",
   "id": "df432553",
   "metadata": {},
   "source": [
    "## Exercise 5\n",
    "Modify your function from Exercise 4 to run a Monte Hall game automatically without any user input. \n",
    "1. Your function should have a Boolean variable `switch` whose default value is `True`, and indicates that the player will choose to switch (if True) or stay (if False)\n",
    "1. Your player door should randomly chosen for step 1 of the game\n",
    "1. Your function should output `1` if the player wins the car and `0` if the player gets the goat\n",
    "1. Your function should suppress any print statements from that in Exercise 4"
   ]
  },
  {
   "cell_type": "code",
   "execution_count": null,
   "id": "6b1e87b1",
   "metadata": {},
   "outputs": [],
   "source": [
    "# Write your function here\n"
   ]
  },
  {
   "cell_type": "code",
   "execution_count": null,
   "id": "e27fe672",
   "metadata": {},
   "outputs": [],
   "source": [
    "# Test your function here\n"
   ]
  },
  {
   "cell_type": "markdown",
   "id": "68e5be0c",
   "metadata": {},
   "source": [
    "## Exercise 6\n",
    "1. Write a script that specifies a number of trials `num_trials=100`, runs your automatic Monte Hall simulator from Exercise 5 with `switch=True`, `num_trials` times and stores the output as an ndarray\n",
    "1. Repeat the process from step 1 `num_trials` times.  Note you can do these 2 steps in a nested for loop -- create a numpy array of size `(num_trials,num_trials)` with each entry initialized to 0, and for each `[i,j]` entry, capture the output of your Monte Hall simulator\n",
    "1. Sum your numpy array from step 2 along the row axis (meaning add all elements of a given column together) to obtain an array where each entry captures how many times the player won out of `num_trials` games. Call this array `winners`.\n",
    "1. Using pyplots hist command (see Probability lecture), plot a histogram of the `winners` array from the previous step with 15 bins and range being the minimum of `winners` to the maximum of `winners`\n",
    "1. Also report the min, max, mean, median, and standard deviation of `winners`\n",
    "1. Repeat Steps 1--5 for `switch=False` (i.e., the player choosing to stay)"
   ]
  },
  {
   "cell_type": "code",
   "execution_count": 1,
   "id": "4588a2ae",
   "metadata": {},
   "outputs": [],
   "source": [
    "## Write and test your code here\n"
   ]
  },
  {
   "cell_type": "markdown",
   "id": "f3ae4946",
   "metadata": {},
   "source": [
    "## Exercise 7 -- Conclusion\n",
    "1. Based on your observations from Exercise 6, what do you estimate the probability of winning if the player chooses to switch vs. choosing to stay?\n",
    "1. Should the player switch doors or stay with their initial guess?"
   ]
  },
  {
   "cell_type": "code",
   "execution_count": null,
   "id": "dfb6ca34",
   "metadata": {},
   "outputs": [],
   "source": []
  },
  {
   "cell_type": "code",
   "execution_count": null,
   "id": "0748e59b",
   "metadata": {},
   "outputs": [],
   "source": []
  },
  {
   "cell_type": "markdown",
   "id": "10ee4949",
   "metadata": {},
   "source": [
    "## Bonus\n",
    "Give a mathematical argument for which strategy (if any) is better. This should involve you computing the probability of success for each strategy and comparing these."
   ]
  },
  {
   "cell_type": "code",
   "execution_count": null,
   "id": "9c2b3d9c",
   "metadata": {},
   "outputs": [],
   "source": []
  }
 ],
 "metadata": {
  "kernelspec": {
   "display_name": "Python 3 (ipykernel)",
   "language": "python",
   "name": "python3"
  },
  "language_info": {
   "codemirror_mode": {
    "name": "ipython",
    "version": 3
   },
   "file_extension": ".py",
   "mimetype": "text/x-python",
   "name": "python",
   "nbconvert_exporter": "python",
   "pygments_lexer": "ipython3",
   "version": "3.8.10"
  }
 },
 "nbformat": 4,
 "nbformat_minor": 5
}
