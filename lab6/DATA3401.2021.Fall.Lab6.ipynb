{
 "cells": [
  {
   "cell_type": "markdown",
   "id": "3d165ddf",
   "metadata": {},
   "source": [
    "###### <center>Lab 6 &ndash; DATA 3401 (Fall 2021)</center>\n",
    "\n",
    "## Lab Date: 10/29\n",
    "## Due Date 11/5 (before the beginning of lab)\n",
    "\n",
    "## Lab Description\n",
    "The purpose of this lab is for you to code the Monte Hall problem and a simulator that will run it with different choices and simulate what is the best strategy\n",
    "\n",
    "## Monte Hall Problem\n",
    "In the 1960s there was a game show called Let's Make a Deal, whose host was Monte Hall. One famous game went as follows.\n",
    "1. The host shows the contestant 3 doors, and tells them that behind 1 door is a **brand new car**, while behind the other 2 doors there are goats\n",
    "1. The contestant chooses a door\n",
    "1. Now the host opens one of the remaining 2 doors and shows the contestant that this door held a goat\n",
    "1. The host asks the contestant if they would like to **switch** their choice to the remaining door, or to **stay** with their original guess\n",
    "\n",
    "Here is the question: should the contestant **switch** or **stay**?  "
   ]
  },
  {
   "cell_type": "markdown",
   "id": "3aa637cd",
   "metadata": {},
   "source": [
    "## Exercise 1\n",
    "Write a `game_setup` function that does the following:\n",
    "1. Creates a numpy array representing the 3 doors\n",
    "1. Creates a numpy array representing the prizes (0 for goat and 1 for car).  You should randomly choose one of the elements of the prize array to be a car and the others should be goats.\n",
    "1. Your function should return the arrays of doors and prizes"
   ]
  },
  {
   "cell_type": "code",
   "execution_count": 19,
   "id": "d46386f6",
   "metadata": {},
   "outputs": [],
   "source": [
    "# Write your function here\n",
    "import numpy as np\n",
    "def game_setup(list1,list2):\n",
    "#creating numpy array\n",
    "  door_array=np.array(list1)\n",
    "#creating numpy array prizes\n",
    "  prizes=np.array(list2)\n",
    "#generating random numbers \n",
    "  randind = np.random.choice(prizes.shape[0], 2, replace=False)\n",
    "  goat=prizes[randind]\n",
    "  car=prizes[randind]  \n",
    "#returning prizes and door_array values\n",
    "  return prizes, door_array"
   ]
  },
  {
   "cell_type": "code",
   "execution_count": 18,
   "id": "61f9170d",
   "metadata": {},
   "outputs": [
    {
     "name": "stdout",
     "output_type": "stream",
     "text": [
      "[0 1]\n",
      "[1 2 3]\n"
     ]
    }
   ],
   "source": [
    "# Test your function here\n",
    "list1=[1,2,3]\n",
    "#creating list2 with 2 values\n",
    "list2=[0,1]\n",
    "#passing list1 and list2 as arguments\n",
    "prizes, door_array=game_setup(list1,list2)\n",
    "#displaying prizes and door_array\n",
    "print(prizes)\n",
    "print(door_array)"
   ]
  },
  {
   "cell_type": "markdown",
   "id": "fb30036e",
   "metadata": {},
   "source": [
    "## Exercise 2\n",
    "Write a function `choose_door` that asks the user to input an integer 1,2,3 to choose a door and returns the door they chose.  You should catch any errors that the user might make and continue asking for input until the user inputs a valid choice."
   ]
  },
  {
   "cell_type": "code",
   "execution_count": 12,
   "id": "bc2b1a78",
   "metadata": {},
   "outputs": [
    {
     "name": "stdout",
     "output_type": "stream",
     "text": [
      "Choose a door from 1,2 or 3: 7\n",
      "Choose a door from 1,2 or 3: 4\n",
      "Choose a door from 1,2 or 3: 2\n",
      "You have chosen door 2\n"
     ]
    }
   ],
   "source": [
    "# Write your function here\n",
    "def choose_door():\n",
    "    choice = -1\n",
    "    while True: \n",
    "        if choice == 1 or choice == 2 or choice == 3:\n",
    "            break\n",
    "        #taking user input\n",
    "        choice = int(input(\"Choose a door from 1,2 or 3: \"))\n",
    "\n",
    "    print(\"You have chosen door \" + str(choice))\n",
    "#invoking function\n",
    "choose_door()"
   ]
  },
  {
   "cell_type": "markdown",
   "id": "84883a17",
   "metadata": {},
   "source": [
    "## Exercise 3\n",
    "Write a function `switch_stay` that asks the user if they want to switch to the remaining door or stay with their original choice. Catch any errors and continue asking for input until the user inputs a valid choice."
   ]
  },
  {
   "cell_type": "code",
   "execution_count": 28,
   "id": "f845412e",
   "metadata": {},
   "outputs": [
    {
     "name": "stdout",
     "output_type": "stream",
     "text": [
      "Listen ! You have enter integer otherwise I will continue prompting---\n",
      "\n",
      "Enter your choice: as\n",
      "Oops! invalid literal for int() with base 10: 'as' occurred.\n",
      "Enter your choice: ][\n",
      "Oops! invalid literal for int() with base 10: '][' occurred.\n",
      "Enter your choice: \n",
      "Oops! invalid literal for int() with base 10: '' occurred.\n",
      "Enter your choice: 4ds2\n",
      "Oops! invalid literal for int() with base 10: '4ds2' occurred.\n",
      "Enter your choice: 34\n",
      "Good! your choice is valid\n"
     ]
    }
   ],
   "source": [
    "# Write your function here\n",
    "# Creating a function\n",
    "def switch_stay():\n",
    "    while True:\n",
    "        try:\n",
    "            choice= int (input(\"Enter your choice: \"))\n",
    "            print(\"Good! your choice is valid\")\n",
    "            break\n",
    "        except Exception as e:\n",
    "                print(\"Oops!\", e, \"occurred.\")\n",
    "if __name__ == '__main__':\n",
    "    print(\"Listen ! You have enter integer otherwise I will continue prompting---\\n\")\n",
    "    switch_stay()"
   ]
  },
  {
   "cell_type": "markdown",
   "id": "67681251",
   "metadata": {},
   "source": [
    "## Exercise 4\n",
    "Write a Monte Hall game simulator that introduces the game and proceeds in the steps given in the introduction. After step 4, your function (the host) should tell the player if they won the car! or got the goat :-(\n",
    "1. Be sure to add print statements with appropriate messages to update the player on the status of the game\n",
    "1. In the step where the host reveals a door with a goat behind it, your host should randomly choose from the remaining doors that have goats behind them\n",
    "1. Test your function 3 times in the cells below"
   ]
  },
  {
   "cell_type": "code",
   "execution_count": 15,
   "id": "4ba111b0",
   "metadata": {},
   "outputs": [
    {
     "name": "stdout",
     "output_type": "stream",
     "text": [
      "Choose door 0, 1 or 2: 1\n",
      "The door with the goat is: 0\n",
      "What do want to do?\n",
      "1. Switch\n",
      "2. Stay\n",
      "Choose 1 or 2: 2\n",
      "You won the car!\n"
     ]
    }
   ],
   "source": [
    "import random\n",
    "\n",
    "# Show the door with the goat\n",
    "def getGoatDoor(host, numDoors, choice):\n",
    "  i = 0\n",
    "  while (i == host or i == choice):\n",
    "    i = (i+1)%(numDoors) \n",
    "  return i\n",
    "# This function executes when the player chooses to switch\n",
    "def switchDoor(goatDoor, numDoors, choice):\n",
    "  i = 0\n",
    "  while (i == goatDoor or i == choice):\n",
    "    i = (i+1)%(numDoors)\n",
    "  return i\n",
    "#Play the game \n",
    "def monteHall(choice):\n",
    "        doors = [0,1,2]\n",
    "        # Choose a random car door out of [0,1,2]\n",
    "        carDoor = random.randint(0, len(doors)-1)\n",
    "        # The host (Monte Hall)\n",
    "        host = carDoor\n",
    "        #the host chooses a door that has the goat.\n",
    "        goatDoor = getGoatDoor(host, len(doors), choice)\n",
    "        print(\"The door with the goat is: \" + str(goatDoor))\n",
    "        \n",
    "        # Ask the player if they want to switch or stay.\n",
    "        print(\"What do want to do?\")\n",
    "        print(\"1. Switch\")\n",
    "        print(\"2. Stay\")\n",
    "        inp = 0\n",
    "        switch = False\n",
    "        while(inp<1 or inp>2):\n",
    "                inp = int(input(\"Choose 1 or 2: \"))\n",
    "                if(inp<1 or inp>2):\n",
    "                        print(\"Invalid Input.\")\n",
    "        if(inp == 1):\n",
    "                switch = True\n",
    "   # If player chooses 1, then we switch the door.\n",
    "        if switch == True:\n",
    "          choice = switchDoor(goatDoor,len(doors),choice)\n",
    "\n",
    "\n",
    "        # check whether the player had chosen the car door.\n",
    "        if(choice == host):\n",
    "                print(\"You won the car!\")\n",
    "        else:\n",
    "                print(\"You got the goat :-(\")\n",
    "\n",
    "if __name__ == '__main__':\n",
    "        x = -1\n",
    "        while(x<0 or x>2):\n",
    "                x = int(input(\"Choose door 0, 1 or 2: \"))\n",
    "                if(x<0 or x>2):\n",
    "                        print(\"Invalid Door.\")\n",
    "                else:\n",
    "                        monteHall(x)"
   ]
  },
  {
   "cell_type": "markdown",
   "id": "df432553",
   "metadata": {},
   "source": [
    "## Exercise 5\n",
    "Modify your function from Exercise 4 to run a Monte Hall game automatically without any user input. \n",
    "1. Your function should have a Boolean variable `switch` whose default value is `True`, and indicates that the player will choose to switch (if True) or stay (if False)\n",
    "1. Your player door should randomly chosen for step 1 of the game\n",
    "1. Your function should output `1` if the player wins the car and `0` if the player gets the goat\n",
    "1. Your function should suppress any print statements from that in Exercise 4"
   ]
  },
  {
   "cell_type": "code",
   "execution_count": 40,
   "id": "6b1e87b1",
   "metadata": {},
   "outputs": [
    {
     "name": "stdout",
     "output_type": "stream",
     "text": [
      "Choose door 0, 1 or 2: 1\n",
      "The door with the goat is: 0\n",
      "What do want to do?\n",
      "1. Switch\n",
      "2. Stay\n",
      "Choose 1 or 2: 1\n",
      "1\n"
     ]
    }
   ],
   "source": [
    "# Write your function here\n",
    "import random\n",
    "# Show the door with the goat\n",
    "def getGoatDoor(host, numDoors, choice):\n",
    "    i = 0\n",
    "    while (i == host or i == choice):\n",
    "        i = (i+1)%(numDoors)\n",
    "    return i\n",
    "def switchDoor(goatDoor, numDoors, choice):\n",
    "    i = 0\n",
    "    while (i == goatDoor or i == choice):\n",
    "        i = (i+1)%(numDoors)\n",
    "    return i\n",
    "\n",
    "#Play the game\n",
    "def monteHall(choice):\n",
    "    doors = [0,1,2]\n",
    "    # Choose a random car door out of [0,1,2]\n",
    "    carDoor = random.randint(0, len(doors)-1)\n",
    "    # The host (Monte Hall)\n",
    "    host = carDoor\n",
    "    #the host chooses a door that has the goat.\n",
    "    goatDoor = getGoatDoor(host, len(doors), choice)\n",
    "    print(\"The door with the goat is: \" + str(goatDoor))\n",
    "  \n",
    "    # Ask the player if they want to switch or stay.\n",
    "    print(\"What do want to do?\")\n",
    "    print(\"1. Switch\")\n",
    "    print(\"2. Stay\")\n",
    "    inp = 0\n",
    "    switch = False\n",
    "    while(inp<1 or inp>2):\n",
    "        print(\"Choose 1 or 2: \",end=\"\")\n",
    "        inp = random.randint(1,2)\n",
    "        print(inp)\n",
    "        if(inp<1 or inp>2):\n",
    "            print(\"Invalid Input.\")\n",
    "        if(inp == 1):\n",
    "            switch = True\n",
    "        # If player chooses 1, then we switch the door.\n",
    "        if switch == True:\n",
    "            choice = switchDoor(goatDoor,len(doors),choice)\n",
    "        if(choice == host):\n",
    "            print(1)\n",
    "        else:\n",
    "            print(0)\n",
    "\n",
    "if __name__ == '__main__':\n",
    "    x = -1\n",
    "    while(x<0 or x>2):\n",
    "        print(\"Choose door 0, 1 or 2: \",end=\"\")\n",
    "        x = random.randint(0,2)\n",
    "        print(x)\n",
    "        if(x<0 or x>2):\n",
    "            print(\"Invalid Door.\")\n",
    "        else:\n",
    "            monteHall(x)"
   ]
  },
  {
   "cell_type": "markdown",
   "id": "68e5be0c",
   "metadata": {},
   "source": [
    "## Exercise 6\n",
    "1. Write a script that specifies a number of trials `num_trials=100`, runs your automatic Monte Hall simulator from Exercise 5 with `switch=True`, `num_trials` times and stores the output as an ndarray\n",
    "1. Repeat the process from step 1 `num_trials` times.  Note you can do these 2 steps in a nested for loop -- create a numpy array of size `(num_trials,num_trials)` with each entry initialized to 0, and for each `[i,j]` entry, capture the output of your Monte Hall simulator\n",
    "1. Sum your numpy array from step 2 along the row axis (meaning add all elements of a given column together) to obtain an array where each entry captures how many times the player won out of `num_trials` games. Call this array `winners`.\n",
    "1. Using pyplots hist command (see Probability lecture), plot a histogram of the `winners` array from the previous step with 15 bins and range being the minimum of `winners` to the maximum of `winners`\n",
    "1. Also report the min, max, mean, median, and standard deviation of `winners`\n",
    "1. Repeat Steps 1--5 for `switch=False` (i.e., the player choosing to stay)"
   ]
  },
  {
   "cell_type": "code",
   "execution_count": 38,
   "id": "4588a2ae",
   "metadata": {},
   "outputs": [
    {
     "ename": "SyntaxError",
     "evalue": "invalid syntax (3251549694.py, line 2)",
     "output_type": "error",
     "traceback": [
      "\u001b[0;36m  File \u001b[0;32m\"/tmp/ipykernel_735/3251549694.py\"\u001b[0;36m, line \u001b[0;32m2\u001b[0m\n\u001b[0;31m    int playerDoorPick=generator.nextInt(3);\u001b[0m\n\u001b[0m        ^\u001b[0m\n\u001b[0;31mSyntaxError\u001b[0m\u001b[0;31m:\u001b[0m invalid syntax\n"
     ]
    }
   ],
   "source": [
    "## Write and test your code here\n",
    "int playerDoorPick=generator.nextInt(3);\n",
    "else\n",
    "\n",
    "{\n",
    "\n",
    "-\n",
    "\n",
    "-\n",
    "\n",
    "-\n",
    "\n",
    "hostPickDoor=3-(playerDoorPick + doorWithCar);\n",
    "\n",
    "}\n",
    "\n",
    "int playerDoorSwitch=3-(hostPickDoor +playerDoorPick); "
   ]
  },
  {
   "cell_type": "markdown",
   "id": "f3ae4946",
   "metadata": {},
   "source": [
    "## Exercise 7 -- Conclusion\n",
    "1. Based on your observations from Exercise 6, what do you estimate the probability of winning if the player chooses to switch vs. choosing to stay?\n",
    "1. Should the player switch doors or stay with their initial guess?"
   ]
  },
  {
   "cell_type": "code",
   "execution_count": null,
   "id": "dfb6ca34",
   "metadata": {},
   "outputs": [],
   "source": [
    "choose to stay!"
   ]
  },
  {
   "cell_type": "code",
   "execution_count": null,
   "id": "0748e59b",
   "metadata": {},
   "outputs": [],
   "source": []
  },
  {
   "cell_type": "markdown",
   "id": "10ee4949",
   "metadata": {},
   "source": [
    "# Bonus\n",
    "Give a mathematical argument for which strategy (if any) is better. This should involve you computing the probability of success for each strategy and comparing these."
   ]
  },
  {
   "cell_type": "code",
   "execution_count": null,
   "id": "9c2b3d9c",
   "metadata": {},
   "outputs": [],
   "source": []
  }
 ],
 "metadata": {
  "kernelspec": {
   "display_name": "Python 3 (ipykernel)",
   "language": "python",
   "name": "python3"
  },
  "language_info": {
   "codemirror_mode": {
    "name": "ipython",
    "version": 3
   },
   "file_extension": ".py",
   "mimetype": "text/x-python",
   "name": "python",
   "nbconvert_exporter": "python",
   "pygments_lexer": "ipython3",
   "version": "3.8.10"
  }
 },
 "nbformat": 4,
 "nbformat_minor": 5
}
