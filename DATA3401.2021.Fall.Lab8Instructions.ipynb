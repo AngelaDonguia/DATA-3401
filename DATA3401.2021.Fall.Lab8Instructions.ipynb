{
 "cells": [
  {
   "cell_type": "markdown",
   "metadata": {},
   "source": [
    "# <center>Lab 8 &ndash; DATA 3401 (Fall 2021)</center>\n",
    "\n",
    "## Lab Date: 11/12\n",
    "## Due Date 11/19 (before the beginning of lab)\n",
    "\n",
    "## Lab Description\n",
    "The purpose of this lab is for you to become more familiar with pandas"
   ]
  },
  {
   "cell_type": "markdown",
   "metadata": {},
   "source": [
    "## Exercise 1\n",
    "1. Download the `wdbc.names` and `wdbc.data` text files in the Lab8 folder on GitHub. These come from the UCI repository https://archive.ics.uci.edu/ml/datasets/Breast+Cancer+Wisconsin+(Diagnostic)\n",
    "1. Use the native `open` command of Python to display the txt file `wdbs.names`\n",
    "1. Read the dataset from the `wdbc.data` file into a variable called `data` using pandas"
   ]
  },
  {
   "cell_type": "code",
   "execution_count": null,
   "metadata": {},
   "outputs": [],
   "source": [
    "# Write your solutions here\n"
   ]
  },
  {
   "cell_type": "markdown",
   "metadata": {},
   "source": [
    "## Exercise 2\n",
    "1. Display the data header using pandas\n",
    "1. Are there any columns that are not useful to analyzing this data?\n",
    "1. Decide what to do with the non-numerical data values, and modify your dataframe\n",
    "1. Extract the column of labels (Malignant or Benign, which should now be numerical values) from the dataframe and store it as a variable called `labels`"
   ]
  },
  {
   "cell_type": "code",
   "execution_count": null,
   "metadata": {},
   "outputs": [],
   "source": [
    "# Write your solutions here\n"
   ]
  },
  {
   "cell_type": "markdown",
   "metadata": {},
   "source": [
    "## Exercise 3\n",
    "1. Plot the data in 5 different ways of your choosing (i.e., plot column 2 vs. column 3 or column 8 vs. column 1, etc.)\n",
    "    1. Your plot should be a scatter plot and should color the points according to whether the cancer is Malignant or Benign\n",
    "1. Now, create new variables `x` and `y` which are numpy arrays from your `data` and `labels` dataframes\n",
    "1. Using these, run the segment of code in the cell below which implements PCA on x (color code is green for benign and red for malignant)\n",
    "1. Compare this plot to the ones from step 1. Do you notice any difference? Do you think it would be easier to separate malignant and benign tumors based on one of these plots over the others?"
   ]
  },
  {
   "cell_type": "code",
   "execution_count": null,
   "metadata": {},
   "outputs": [],
   "source": [
    "from sklearn.decomposition import PCA\n",
    "import matplotlib\n",
    "from matplotlib import pyplot as plt\n",
    "\n",
    "plt.figure()\n",
    "PCA3=PCA(n_components=2)\n",
    "XPCA = PCA3.fit_transform(X)\n",
    "plt.plot(XPCA[y==0,0],XPCA[y==0,1],'g.')\n",
    "plt.plot(XPCA[y==1,0],XPCA[y==1,1],'r.')\n",
    "plt.show()"
   ]
  }
 ],
 "metadata": {
  "kernelspec": {
   "display_name": "Python 3",
   "language": "python",
   "name": "python3"
  },
  "language_info": {
   "codemirror_mode": {
    "name": "ipython",
    "version": 3
   },
   "file_extension": ".py",
   "mimetype": "text/x-python",
   "name": "python",
   "nbconvert_exporter": "python",
   "pygments_lexer": "ipython3",
   "version": "3.7.3"
  }
 },
 "nbformat": 4,
 "nbformat_minor": 5
}
